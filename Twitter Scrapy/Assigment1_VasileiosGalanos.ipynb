{
 "cells": [
  {
   "cell_type": "markdown",
   "metadata": {},
   "source": [
    "# Practical Data Science -  Assignment I                   "
   ]
  },
  {
   "cell_type": "markdown",
   "metadata": {},
   "source": [
    "## *Vasileios Galanos, 10/2019*"
   ]
  },
  {
   "cell_type": "markdown",
   "metadata": {},
   "source": [
    "### Part 1: Scraping Twitter Accounts"
   ]
  },
  {
   "cell_type": "markdown",
   "metadata": {},
   "source": [
    "### 1.1 Connect to Twitter"
   ]
  },
  {
   "cell_type": "markdown",
   "metadata": {},
   "source": [
    "* We import the credentials we were given with our Twitter app registration from the file `twitter_config.py`(located in the same folder as this notebook) and use them with the tweepy library in order to access the **Twitter API**.  \n",
    "* We also import some important libraries that we will use later."
   ]
  },
  {
   "cell_type": "code",
   "execution_count": 1,
   "metadata": {},
   "outputs": [],
   "source": [
    "import pandas as pd\n",
    "import requests\n",
    "from bs4 import BeautifulSoup\n",
    "import re\n",
    "import random\n",
    "import numpy as np\n",
    "\n",
    "%matplotlib inline"
   ]
  },
  {
   "cell_type": "code",
   "execution_count": 2,
   "metadata": {},
   "outputs": [],
   "source": [
    "import tweepy\n",
    "from twitter_config import config\n",
    "\n",
    "auth = tweepy.OAuthHandler(config['consumer_key'], config['consumer_secret'])\n",
    "auth.set_access_token(config['access_token'], config['access_token_secret'])\n",
    "\n",
    "api = tweepy.API(auth)"
   ]
  },
  {
   "cell_type": "markdown",
   "metadata": {},
   "source": [
    "We then use [GET trends/place](https://developer.twitter.com/en/docs/trends/trends-for-location/api-reference/get-trends-place) with the WOEID that corresponds to Athens in order to get the top 50 trending topics."
   ]
  },
  {
   "cell_type": "code",
   "execution_count": 3,
   "metadata": {
    "scrolled": false
   },
   "outputs": [],
   "source": [
    "ATHENS_WOE_ID = 946738\n",
    "athens_trends = api.trends_place(id=ATHENS_WOE_ID)[0]['trends']"
   ]
  },
  {
   "cell_type": "markdown",
   "metadata": {},
   "source": [
    "Creating an empty list and appending only values that correspond to *Trend Name* and *Tweet Volume*. We also remove any hashtags from *Trend Name*"
   ]
  },
  {
   "cell_type": "code",
   "execution_count": 4,
   "metadata": {},
   "outputs": [],
   "source": [
    "trends_list = []\n",
    "for trend in athens_trends:\n",
    "        trends_list.append([re.sub('#','',trend[\"name\"]),trend['tweet_volume']])"
   ]
  },
  {
   "cell_type": "markdown",
   "metadata": {},
   "source": [
    "We can print the first 10 elements in the list as below, but we can use `tweet_volume` as well, a brand new addition to Twitter API that is the volume of tweets per trend for the last 24 hours."
   ]
  },
  {
   "cell_type": "code",
   "execution_count": 5,
   "metadata": {},
   "outputs": [
    {
     "name": "stdout",
     "output_type": "stream",
     "text": [
      "CSKOLY\n",
      "globetrottersgr\n",
      "πατρα\n",
      "GNTMgr\n",
      "παρελαση\n",
      "Monty Python\n",
      "kalomesimeraki\n",
      "Αρμενιων\n",
      "σουζανα\n",
      "Βουλης\n"
     ]
    }
   ],
   "source": [
    "for trend,vol in trends_list[:10]:\n",
    "    print(trend)"
   ]
  },
  {
   "cell_type": "markdown",
   "metadata": {},
   "source": [
    "Creating a **pandas** dataframe from the previous list is handy, mainly because of the following data transformations:"
   ]
  },
  {
   "cell_type": "code",
   "execution_count": 6,
   "metadata": {},
   "outputs": [],
   "source": [
    "df = pd.DataFrame(trends_list, columns=['trend','volume']) #creating the dataframe\n",
    "df.loc[np.isnan(df['volume']),'volume'] = 0 #replace None with 0\n",
    "top_trends = df.sort_values('volume', ascending = False ).trend.head(10) #getting only the top 10 trends ordered by volume"
   ]
  },
  {
   "cell_type": "markdown",
   "metadata": {},
   "source": [
    "Printing the results ordered by `tweet volume`:"
   ]
  },
  {
   "cell_type": "code",
   "execution_count": 7,
   "metadata": {},
   "outputs": [
    {
     "name": "stdout",
     "output_type": "stream",
     "text": [
      "Halloween\n",
      "ThankYouBTS\n",
      "Happy Halloween\n",
      "tories\n",
      "loveyourselfforever\n",
      "AfiliAşk\n",
      "AyKer\n",
      "επρεπε\n",
      "Βοριδη\n",
      "η βουλη\n"
     ]
    }
   ],
   "source": [
    "print(*top_trends, sep='\\n')"
   ]
  },
  {
   "cell_type": "markdown",
   "metadata": {},
   "source": [
    "### 1.2 Username Scraping"
   ]
  },
  {
   "cell_type": "markdown",
   "metadata": {},
   "source": [
    "* Using the requests library, we make an **HTTP GET** request to the website that contains the information that we want to scrape and store the response. \n",
    "* We use *try - except* in case there are any exceptions that will produce errors.\n",
    "* Finally we pass the html contents through the BeautifulSoup library in order to navigate the data structure."
   ]
  },
  {
   "cell_type": "code",
   "execution_count": 8,
   "metadata": {},
   "outputs": [
    {
     "name": "stdout",
     "output_type": "stream",
     "text": [
      "Page retrieval OK\n"
     ]
    }
   ],
   "source": [
    "try:\n",
    "    r = requests.get(\"https://www.businessinsider.com/uk-politics-twitter-accounts-2016-8?r=US&IR=T\")\n",
    "except requests.exceptions.RequestException as rex:\n",
    "    print(rex)\n",
    "else:\n",
    "    print(\"Page retrieval OK\")\n",
    "    \n",
    "html = r.content\n",
    "soup = BeautifulSoup(html, 'html.parser')"
   ]
  },
  {
   "cell_type": "markdown",
   "metadata": {},
   "source": [
    "* Discovering patterns in a html document is the key for a succesfull data scraping. Here the **<h2\\>** tag helps us locate every twitter user. \n",
    "* Using `parent` and `findNextSibling` we manage to scrape the Twitter Username.\n",
    "* Finally we clean the strings using a Regular Expression and store them in a list."
   ]
  },
  {
   "cell_type": "code",
   "execution_count": 9,
   "metadata": {
    "scrolled": true
   },
   "outputs": [
    {
     "data": {
      "text/plain": [
       "['Tom_Slater_', 'MattSingh_', 'asabenn']"
      ]
     },
     "execution_count": 9,
     "metadata": {},
     "output_type": "execute_result"
    }
   ],
   "source": [
    "usernames = []\n",
    "\n",
    "for row in soup.body.findAll(\"h2\", {\"class\": \"slide-title-text\"}):\n",
    "    parent = row.parent\n",
    "    tw_acc = re.sub('\\w+:\\s*@','',parent.findNextSibling(\"p\").get_text())\n",
    "    usernames.append(tw_acc)\n",
    "    \n",
    "usernames[:3]"
   ]
  },
  {
   "cell_type": "markdown",
   "metadata": {},
   "source": [
    "### 1.3 Fetch Tweets"
   ]
  },
  {
   "cell_type": "markdown",
   "metadata": {},
   "source": [
    "* We want to fetch the tweets posted in the last 24 hours for each of the usernames that we scraped.\n",
    "* Below, we find the datetime before exactly 24 hours."
   ]
  },
  {
   "cell_type": "code",
   "execution_count": 10,
   "metadata": {},
   "outputs": [
    {
     "name": "stdout",
     "output_type": "stream",
     "text": [
      "2019-10-29 20:05:19.611742\n"
     ]
    }
   ],
   "source": [
    "from datetime import datetime, timedelta\n",
    "last_day = datetime.utcnow() - timedelta(hours = 24)\n",
    "print (last_day)"
   ]
  },
  {
   "cell_type": "markdown",
   "metadata": {},
   "source": [
    "* We use the following function as a handler to avoid running into a [rate limit](https://developer.twitter.com/en/docs/basics/rate-limiting) using the Twitter API. \n",
    "* If we do, though, hit a rate limit, waiting 15 minutes will reset any penalties."
   ]
  },
  {
   "cell_type": "code",
   "execution_count": 11,
   "metadata": {},
   "outputs": [],
   "source": [
    "import time\n",
    "\n",
    "def limit_handler(cursor):\n",
    "    while True:\n",
    "        try:\n",
    "            yield cursor.next()\n",
    "            # This is to avoid running into a rate limit\n",
    "            time.sleep(60)\n",
    "        except tweepy.RateLimitError:\n",
    "            # But if we do run into a rate limit, then\n",
    "            # go to sleep for 15 minutes\n",
    "            print('Rate limit reached')\n",
    "            time.sleep(15 * 60)\n",
    "        except tweepy.TweepError as te:\n",
    "            if te[0]['code'] == '419':\n",
    "                print('Requests limit reached')\n",
    "                time.sleep(15 * 60)\n",
    "            else:\n",
    "                raise"
   ]
  },
  {
   "cell_type": "markdown",
   "metadata": {},
   "source": [
    "The following `print_tweets` function, takes two parameters: \n",
    "* a target user for whom we will print the tweets\n",
    "* a datetime object that will be used to print only tweets newer than that. The Twitter API fetches tweets from the newest to the oldest, so we break the process if we find a tweet that is older than this date."
   ]
  },
  {
   "cell_type": "markdown",
   "metadata": {},
   "source": [
    "We use [GET user_timeline](https://developer.twitter.com/en/docs/tweets/timelines/api-reference/get-statuses-user_timeline) to fetch no more than 100 tweets at a time.\n",
    "* Using `max_id` as a parameter, is crucial in order to avoid getting duplicates while we're fetching pages of results (in case the user tweeted while we were fetching the next page. ([See how timelines work](https://developer.twitter.com/en/docs/tweets/timelines/guides/working-with-timelines))\n",
    "* The function returns a `counter` with the number of tweets that we fetched and a `max_border` containing the id of the newest tweet in all the tweets that we processed."
   ]
  },
  {
   "cell_type": "code",
   "execution_count": 12,
   "metadata": {
    "scrolled": true
   },
   "outputs": [],
   "source": [
    "def print_tweets(target_user,last_day):\n",
    "    print('@',target_user,' tweeted: ',sep='')\n",
    "    tweet_ids = []\n",
    "    border = None\n",
    "    max_border = None\n",
    "    counter = 0\n",
    "    for page in limit_handler(tweepy.Cursor(api.user_timeline\n",
    "                           ,screen_name = target_user\n",
    "                           ,count=100\n",
    "                           ,max_id = border\n",
    "                           , include_rts = False\n",
    "                         ).pages()):\n",
    "        for tweet in page:\n",
    "            \n",
    "            if tweet.created_at < last_day:\n",
    "                return(counter,max_border)\n",
    "            \n",
    "            print(tweet.text)\n",
    "            tweet_ids.append(tweet.id)\n",
    "            counter+=1\n",
    "            max_border = max(tweet_ids)\n",
    "            \n",
    "        border = min(tweet_ids)-1\n",
    "        print('Loading next page...')"
   ]
  },
  {
   "cell_type": "markdown",
   "metadata": {},
   "source": [
    "With `print_new_tweets` function, we are trying to fetch any new tweets the user tweeted while we were fetching the pages with the results. Using the `since_id` parameter with `max_border` containing the id that we explained earlier, allows us to fetch any new tweets efficiently. We do not use pagination or a handler this time, because we trust that the user didn't tweet that much in so little time."
   ]
  },
  {
   "cell_type": "code",
   "execution_count": 13,
   "metadata": {},
   "outputs": [],
   "source": [
    "def print_new_tweets(target_user,last_day,limit):\n",
    "    counter2 = 0\n",
    "    for tweet in tweepy.Cursor(api.user_timeline\n",
    "                           ,screen_name = target_user\n",
    "                           ,count=100\n",
    "                           ,since_id = limit\n",
    "                           , include_rts = False\n",
    "                         ).items():\n",
    "        if tweet.created_at >= last_day:\n",
    "            print(tweet.text)\n",
    "            counter2+=1\n",
    "    return(counter2)\n",
    "        "
   ]
  },
  {
   "cell_type": "markdown",
   "metadata": {},
   "source": [
    "Now it is time to print the results.\n",
    "* Using *try-except* and `get_user` safely guarantees us that the process will not crash for a single user that may not exist."
   ]
  },
  {
   "cell_type": "code",
   "execution_count": 14,
   "metadata": {
    "scrolled": true
   },
   "outputs": [
    {
     "name": "stdout",
     "output_type": "stream",
     "text": [
      "@Tom_Slater_ tweeted: \n",
      "------------------------- fetched:  0  tweets.. -------------------------\n",
      "@MattSingh_ tweeted: \n",
      "Sad to hear that my MP is standing down, and particularly of the circumstances. Let's hope her successor continues… https://t.co/uH1wtrhdXq\n",
      "@AndyCroy Not sure, but presumably it does?\n",
      "Depends which ones they are. If they're Lab-Con marginals, the impact the very different than if they're solidly La… https://t.co/lQQPIqsRWU\n",
      "Leicester East constituency poll anyone?🤔 https://t.co/sWBQGf5rG7\n",
      "@ChristabelCoops Raaar🦁 https://t.co/C3aEI8KURO\n",
      "@ChristabelCoops Don't you have some barrels to make?🤔\n",
      "@ben_jolley2 @HenryTribe Yes, although that was totally unexpected, whereas this one has been talked about for a while\n",
      "@sundersays Sorry, 8 points\n",
      "@sundersays Hartlepool... UKIP came within 6 points of LAB in 2016 on a similar vote share to BXP’s current polling\n",
      "@HenryTribe Applying to register, not registering\n",
      "@AnneAshworth Not yet, but watch this space! Here's some analysis of 2017. Not sure about registrations, but renter… https://t.co/YmXdGFauem\n",
      "Paging @TerribleMaps https://t.co/kmkYq2qDCd\n",
      "@ElectionMapsUK When everyone thinks the same thing... https://t.co/y0mG10tYNz\n",
      "@Will_Tanner Genuinely curious about Workington now! Might just have to poll it...\n",
      "@mickfealty “If you turn up for us, we’ll turn up for you” is a really good slogan\n",
      "@NeilGarratt @sundersays It is with ours. Others vary. Most (including some of the ones that publish breaks) have shocking EM samples.\n",
      "@sundersays It's currently 10-11% of eligible voters, but I agree that there needs to be a proper study\n",
      "@PeterWalker59 Yes that is true, but it depends how many votes are tactical\n",
      "Something often overlooked. Remember – in 1983 the Tory vote share was actually *lower* than at the previous electi… https://t.co/mtGRxH8HPy\n",
      "@philipjcowley @JohnRentoul https://t.co/GomaryQEPh\n",
      "@edofmund Can't please everyone...\n",
      "Lib Dems regain Eastbourne before the election even starts, as Stephen Lloyd retakes the whip. So now up to 20 MPs.\n",
      "https://t.co/0X5uhbaqq5\n",
      "@martinboon @DrKurtForrester @robfordmancs @YouGov @chriscurtis94 @anthonyjwells No, it was entirely online. Partly… https://t.co/FwbL1WTqtQ\n",
      "After all that, the bill got two-thirds of the Commons... https://t.co/mkdzABOzkO\n",
      "------------------------- fetched:  24  tweets.. -------------------------\n",
      "@asabenn tweeted: \n",
      "The 50p Brexit coins aren't the only things in meltdown... I've finally lost the plot admits @allisonpearson https://t.co/krHBZCoSYD\n",
      "Just when you thought you might stop losing the Keith Vaz game.... https://t.co/v5tWeVCduT\n",
      "Hot off the press from CCHQ\n",
      "Scottish Secretary Alister Jack: “The election has barely begun and Jeremy Corbyn is al… https://t.co/d5Isj2Ky5a\n",
      "@bobscartoons Cameron, @youngvulgarian and Booker I can understand. But trying to work out why people ordering my b… https://t.co/j3NKBWk5Jh\n",
      "@TheColourOfHear I imagine they've pre-planned a few photoshops...\n",
      "Wonder how long it'll take for CCHQ to mock up Corbyn in Sturgeon's pocket, a la Miliband and Salmond... https://t.co/Bn5TBIZmi4\n",
      "#ClassicDom https://t.co/y13ynwVnIL\n",
      "No election FOMO for Varadkar https://t.co/yLm83Uc5qX\n",
      "------------------------- fetched:  8  tweets.. -------------------------\n",
      "@robfordmancs tweeted: \n",
      "@CeriEvans3 Well, yes, but implicit in my point was that *for this election* solutions like that are rather hard to… https://t.co/PLOw40nkiv\n",
      "@JonnElledge @miss_s_b @JenWilliamsMEN Suits me.\n",
      "@JenWilliamsMEN Indeed. Would help also if more of politics and administration were also outside of London. We are… https://t.co/5Iijs7K4pc\n",
      "@Speaker_Bureau done\n",
      "Fun six weeks ahead for Matt Hancock https://t.co/5sqUB1Joqu\n",
      "@JimLavery Ah yes, Henry Bolton\n",
      "\"Name all of UKIP's leaders between the 2015 and 2019 elections\" will be a tough pub quiz question a few years from… https://t.co/CiPvSevGLW\n",
      "@po8crg @matgb @ShakeyStephens Yes I see the error now, Been marking all day so brain not at full capacity.\n",
      "@matgb @ShakeyStephens Ah, I see now. Yes, that's true, there aren't many people with cockney or South London accen… https://t.co/3Rb6ubaDqo\n",
      "@po8crg @matgb @ShakeyStephens Oh FFS, that's my *point*. How is this not clear? Mat said \"non posh southern accent… https://t.co/NLDvasrghq\n",
      "@matgb @ShakeyStephens You literally said \"non posh southern accents rarely read the news :-(\"\n",
      "\n",
      "That is what I was… https://t.co/bTmV5kvVE4\n",
      "@matgb @ShakeyStephens That was my point \"non posh southern accents rarerly read the news\"\n",
      "\n",
      "Huw has a non-posh sout… https://t.co/RuiWOaebcU\n",
      "@matgb @ShakeyStephens This will come as a bit of a surprise to Huw Edwards I suspect.\n",
      "@chrishanretty @BESResearch I think it was Cara Wong and Jake Bowers?\n",
      "@robblackie_oo As someone who grew up near Sutton I also would vote for more Sutton vox pops.\n",
      "@miss_s_b Ah yes I had forgetten they were moving. Has that happened already?\n",
      "Obviously one way out of this would be to have more media reporting during the election actually directly from loca… https://t.co/nToUgCsi1Y\n",
      "I sympathise with this but it does make for a bit of a London media catch-22:\n",
      "\"Why don't posh Southerners on TV/rad… https://t.co/5yxxWvTBes\n",
      "@amaan_atd @c_kennaugh You both drastically overestimate the chances of many voters (a) ever hearing anything about… https://t.co/rYj4l3zp1N\n",
      "@JoshNeicho @JamesHeartfield No idea tbh, but evidence from 2017 suggests ethnic minority voters less likely to cha… https://t.co/i9caQ80ZSK\n",
      "@JamesHeartfield It is less that \"white people are not a natural constituency for Labour\" as you put it and more th… https://t.co/IpifRnstrp\n",
      "@BritsUnchained @ProfSobolewska @omaromalleykhan @icket_cr @tianran @YouGov @Survation @sundersays @stephenkb You,… https://t.co/6eV9hlwo7e\n",
      "@BritsUnchained @ProfSobolewska @omaromalleykhan @icket_cr @tianran @YouGov @Survation @sundersays @stephenkb You a… https://t.co/3y7X1YntoZ\n",
      "Ethnicity very likely to be a factor in this instance: Walsall N is 85% white, Walsall S is 60% white. Ethnic minor… https://t.co/bMaC6tK1Ap\n",
      "@BritsUnchained @ProfSobolewska @omaromalleykhan @icket_cr @tianran @YouGov @Survation @sundersays @stephenkb The p… https://t.co/YpFb8xvBYH\n",
      "@omaromalleykhan @JoeTwyman @ProfSobolewska @nspmartin @HzBrandenburg @sundersays @jdthndr @p_surridge… https://t.co/EO0e8XPgvT\n",
      "@josephdcassidy Good luck :  )\n",
      "Don’t leave home without it folks! https://t.co/CD9AejdiIR\n",
      "@HXValley @stephenkb yes that was a typo\n",
      "@KingBong @ShelaghFogarty Refreshing honesty KingBong\n",
      "@HXValley @stephenkb Well yes that's my point - both times the govt improved their position, Stephen seemed to be a… https://t.co/GrTI2Vj0GF\n",
      "@KingBong @ShelaghFogarty And what gives you such certainty in this uncertain election, KingBong?\n",
      "@RexZogTheFirst @stephenkb Yes, 74, typo\n",
      "@stephenkb On the point of \"helping govt out at midterm\", didn't Wilson get a majority in 1966? And a smaller one (… https://t.co/IHmCBytFME\n",
      "@sundersays @theJeremyVine @Peston @bbclaurak My kids would prefer a giant electoral Guinea Pig. Can this be arranged?\n",
      "@pidster78 Well I wasn't because I was spending time explaining my points and you weren't engaging with them at all… https://t.co/zLAFhEEhad\n",
      "@pidster78 I agree the election is very uncertain in many regards but there are a lot of reasons to doubt that BXP… https://t.co/F3USSwLLNa\n",
      "@pidster78 Well, one of us has written a book about the electoral fortunes of UKIP and has 15 years' experience ana… https://t.co/G6v1TS1CeE\n",
      "@pidster78 I don't! No idea who will win. I just don't think there will be many BXP MPs, and any at all getting ele… https://t.co/FCOAizsDRm\n",
      "The only way is up, baby, for you and me now.... https://t.co/wKYW9o1HLZ\n",
      "@sandylanceley @policy_uk @SebastianEPayne Not sure why you have any confidence there won't be massive swings in th… https://t.co/s7ERsrXzPX\n",
      "@pidster78 Not going to be any ukip mps. At most, a handful of BXP MPs and even that requires a BXP vote so high th… https://t.co/uWTZBvtbp3\n",
      "@pidster78 Well, so are the Monster Raving Loony Party\n",
      "WOO @jon_mellon on the telly\n",
      "@pidster78 Many thinks are uncertain in this most uncertain elections. One thing that isn’t is UKIP’s prospects. Th… https://t.co/PD2xmgojfF\n",
      "@policy_uk @SebastianEPayne Yes, fair. May prove accurate\n",
      "@GeneralBoles Our model projects a 78% probability this pledge will not last until Election Day\n",
      "@GeneralBoles I know you're just kidding about but the exit poll is already a joint BBC/Sky/ITV venture. So they ha… https://t.co/qZk2Eq0OdQ\n",
      "@pidster78 Predicting Brexit MPs, plural, already brave. UKIP MPs? Lol, v funny, top work.\n",
      "@policy_uk @SebastianEPayne Ruth less important than imagined in Scotland (Cons won seats there largely by winning… https://t.co/ZVBJgtz9yg\n",
      "------------------------- fetched:  50  tweets.. -------------------------\n"
     ]
    },
    {
     "name": "stdout",
     "output_type": "stream",
     "text": [
      "@LadPolitics tweeted: \n",
      "@davidrobbo66 which ones?\n",
      "@jamesrbuk Sure, here is the latest. https://t.co/gERuufqz87\n",
      "@georgegalloway @AbiWilks https://t.co/PVh9nGOz8X\n",
      "@AbiWilks 50/1, if you fancy betting on it.\n",
      "@LeftieStats I don't expect the European election results to correlate very closely to what happens on Dec 12th tbh\n",
      "@LeftieStats I expect her odds will be shorter than Labour i.e. she'll be given a higher chance of winning.\n",
      "@Ozzysmith1 but he might be speaker by then, so that would obv make a difference\n",
      "@Ozzysmith1 no, that'll have to wait.\n",
      "George Galloway is 7/1 to unseat Tom Watson in West Brom East. https://t.co/P6phPZUmNv\n",
      "@AdamPritchard82 @steve_jolly There is the precedent of 2001 when the election had to be delayed from the planned d… https://t.co/YUlX5NqHso\n",
      "@AdamPritchard82 @steve_jolly Hmm, well generally we'd like to pay out asap, but at a minimum it'll need to get thr… https://t.co/meltp3d0qt\n",
      "@steve_jolly it's on the list! Can't promise when, but will be available at some point\n",
      "@philwoodford 20/1 on them to win most seats and Johnson losing his, on our site under our general election prices\n",
      "@L_J_Hodson will add it to the list and offer on site at some point, cant be any more specific atm, sorry\n",
      "@nickgoff79 @gamblinglamb I think there were some other bookmaking PR depts who were only too happy to spout the \"i… https://t.co/KgrtFz5IEa\n",
      "@davebesag sorry to hear that, I must admit I don't know much about that either, but will ask around.\n",
      "@paulmac708 will have a think about that one.\n",
      "@kyle_lochhead pushed her odds out a little\n",
      "@cjayanetti @the_Politician oh yeah, so it is.\n",
      "I was going to tweet some odds, but that might be considered a spoiler.\n",
      "In non- UK election news, I was getting a bit bored with @the_Politician but the final episode was really good and… https://t.co/m19BttC8ur\n",
      "@iamezekiel1_14 labour\n",
      "@DaveOneSixNine ok, will have a look at that, thanks.\n",
      "@DaveOneSixNine That seems a bit low (although you can place a bet again every 24 hours).\n",
      "Which particular option was it?\n",
      "Seat betting, vote shares and plenty more general election odds available now.\n",
      "https://t.co/sHB2xRbtYT https://t.co/GuLO2EccgM\n",
      "@gamblinglamb We've put it up under our general election specials, thanks!\n",
      "@gamblinglamb 317 (not including speaker) : 66/1\n",
      "------------------------- fetched:  26  tweets.. -------------------------\n",
      "@samgadjones tweeted: \n",
      "(Important update: that Bouée and Thiam went clubbing together in Ibiza is one of those anecdotes that’s  too good… https://t.co/pozn5nahEE\n",
      "“At no point have I, will I, would I, let the personal affect the professional… Whatever happens in the private sph… https://t.co/TYcJrdGxU1\n",
      "“I never considered resigning,” said Thiam. Credit Suisse’s Q3 numbers today indicate his strategy for the bank is… https://t.co/7qWlJoBynR\n",
      "And on the media storm around the Khan scandal: “I would never say that the media was unfair. But it was fed in an… https://t.co/gy8CfZBm8d\n",
      "Credit Suisse’s Thiam on supposed professional wingman and clubbing buddy Pierre-Olivier Bouée this morning (who to… https://t.co/WbCfkT3wbj\n",
      "@katie_martin_fx @duncanrobinson https://t.co/f0Kf3koRAH\n",
      "@duncanrobinson Can this be traded? I see an arbitrage in the  spread between Fuck and Wanker.\n",
      "------------------------- fetched:  7  tweets.. -------------------------\n",
      "@PaulbernalUK tweeted: \n",
      "@GlobalMatters17 The footie is the best in my lifetime. The politics is the worst in my lifetime. Worse even than the Thatcher years.\n",
      "@ItsChrisDavison I’m rather excited by it!\n",
      "Anyway, footie time. No more politics for me this evening. 🐺\n",
      "@Defencebrief That’s not what I’m suggesting. I’m suggesting that saying ‘Labour needs to dump Corbyn and bring in… https://t.co/riTmLK5XdK\n",
      "@simoncosgrove I think you rather missed the point of my tweet.......\n",
      "@AmiableNoodle They’ve made a right balls-up of everything...\n",
      "@Chesterfield4EU Rats leaving a sinking ship.\n",
      "@Chesterfield4EU Quite.\n",
      "@TimSpiers Wow. And bloody good!\n",
      "@philiplynx @patrickseurre Sometimes there is no compromise....\n",
      "A huge number of them knew very well there was no good way to deliver Brexit. And yet they played along with the id… https://t.co/j0njNeadhh\n",
      "All these MPs standing down: too bloody late. If, back in 2016, you’d been brave enough to say ‘Brexit is disastrou… https://t.co/46RhFMvTQv\n",
      "@jukeboxjunkie88 They should stop saying ‘Labour should dump Corbyn and bring in Starmer/Phillips/David Miliband’.… https://t.co/acdiU0Dn0E\n",
      "@HarryMonmouth I felt like I was a grandmother being taught to suck eggs.\n",
      "@jukeboxjunkie88 Which is fine, but not what my tweet was about. :)\n",
      "@CharleyChetto I might well, given the specific circumstances in Cambridge.\n",
      "@AndrewDMurray @LSELaw Shame!\n",
      "@GuitaristDom @AndyVale No kidding!\n",
      "@SimonFRCox @TheSiuloir @Sean1934 @mikew4EU @back_fights No point at all. :)\n",
      "@Ariel_Adam I live in a sensible place. The Tories haven’t got a cat’s chance in hell here. :)\n",
      "@sanachnaa Oh, this is the other way around. I’m attacked for not fully embracing Labour’s whole plan, and being sceptical about Brexit.\n",
      "@GuitaristDom @AndyVale Most of the recent attacks are from people on the left who assume that because I want to st… https://t.co/tPsSnLusHL\n",
      "@Ariel_Adam Given that I would rather gouge out my eyes with a rusty spoon than vote Tory, you don’t really need to bully me that way... 🥄\n",
      "@flyraccoonfly I do try. Sometimes it’s hard not to respond.\n",
      "@peterbarnes_ Sadly I don’t think so.\n",
      "@sanachnaa I always check the profiles and timelines of people before I reply...\n",
      "Just as a matter of interest, trying to bully people into supporting your party isn’t likely to be very effective.\n",
      "\n",
      "#Election2019\n",
      "@TheRoundhead42 @JHinkley24 https://t.co/RdXIl5HFqA\n",
      "@chemosh933 Fortunately not.\n",
      "@TheRoundhead42 @JHinkley24 *checks that he didn’t notice my sarky tweet about the Lib Dem electoral material*\n",
      "@GuitaristDom @AndyVale Whew. I’ve been under attack a bit today, and it’s hard to keep track....\n",
      "@GiantHandGuy I wish they understood the effect they have...\n",
      "@TheSiuloir @Sean1934 @mikew4EU @back_fights I’m (a) not FBPE (b) not in an ivory tower... I’m one of the surprisin… https://t.co/h8MyR9Is34\n",
      "@PriyamvadaGopal We’ll need it.\n",
      "@BercowsH @Shamils18 Quite so. I’m not fighting them, they’re fighting me.\n",
      "@geoffwilton2 Quite.\n",
      "@GuitaristDom @AndyVale I do hope you’re not accusing me of being a ‘middle of the road hashtag warrior’. I’m to the left of Labour......\n",
      "@kyrl23041714 I think it’s still the most likely (and worst) outcome.\n",
      "@SusieMu45 It really is....\n",
      "Oh lord, now (according to this Labour supporter) I’ve been ‘brainwashed’ not to believe in Corbyn’s economic maste… https://t.co/hjvQJ63uu8\n",
      "@Timewalkproject As would I, but Labour *and* avoiding Brexit is quantum levels better than Labour with Brexit. I want both.\n",
      "@probablywilltoo @jeremycorbyn @UKLabour Respectfully, that’s not what my tweet was about. I make no judgement abou… https://t.co/YL1QTj5hjK\n",
      "@TheSiuloir @Sean1934 @mikew4EU @back_fights ...and maybe not. Maybe when you’re in a hole you should stop digging. Up to you, of course.\n",
      "@PriyamvadaGopal It’s all too familiar, sadly.\n",
      "@dirk1978 I’m doing my best. :)\n",
      "*grandmother being taught to suck eggs face*\n",
      "@TheSiuloir @Sean1934 @mikew4EU @back_fights My expertise is actually more economic than legal, but hey.\n",
      "@TheSiuloir @Sean1934 @mikew4EU @back_fights My undergraduate degree is in mathematics. I’m a former chartered acco… https://t.co/gP5zX2bbzn\n",
      "I spent a bit of time this morning trying to persuade some people to vote Labour. Now I’m being tweeted at by Labou… https://t.co/JCgKgzI6I6\n",
      "Every encounter with supporters of every political party seems to leave me liking that party less.\n",
      "\n",
      "#SubTweet\n",
      "@TheSiuloir @Sean1934 @mikew4EU @back_fights *sigh*\n",
      "@TheSiuloir @Sean1934 @mikew4EU @back_fights It did, and a day later it was told it wasn’t policy after all. That’s… https://t.co/ODXuWT7z7Y\n",
      "@sarahcam3ron @PatHarkin7 I look forward to seeing that in the manifesto. Last time they promised that (at conferen… https://t.co/hqELqrOhRu\n",
      "@TheSiuloir @Sean1934 @mikew4EU @back_fights ...but without that, the time, energy, money and trouble caused by Bre… https://t.co/t5qQg8i3eM\n",
      "@TheSiuloir @Sean1934 @mikew4EU @back_fights If they protected freedom of movement, I might agree. :)\n",
      "@andrew_jeans @paulewart23 @PriyamvadaGopal @YouTube I was 7 years old when it came out. Perfect for me at that age....\n",
      "@Shamils18 I want policies that I can embrace. :)\n",
      "@paulewart23 @andrew_jeans @PriyamvadaGopal @YouTube Dougal and the Blue Cat was a *classic*. One of the first film… https://t.co/RfSThPnQZr\n",
      "@stephenasmith1 Which again is fair enough, but not connected with my tweet. :)\n",
      "@AmiableNoodle @cfinnecy I suspect they may well lose their deposit here this time around.\n",
      "@AmiableNoodle @cfinnecy The Tories barely even try in Cambridge now.\n",
      "@Shamils18 Is that supposed to make me feel good about Labour?\n",
      "@cfinnecy The Lib Dem leaflet had two big messages on the front, both of which told me not to vote Lib Dem. (1) The… https://t.co/oek9Z1v9Xo\n",
      "Received my Lib Dem election material. Made it clear to me why I shouldn’t vote Lib Dem. I look forward to the equi… https://t.co/9f640idZwv\n",
      "@Gargarin Whew. I thought you were going to vote for the Blond, Lying Inept Racist for a moment\n",
      "@kmckee7 @Gilofthepeople I, for one, welcome our new car-driving rat overlords.\n",
      "@WJBarter She doesn’t have pockets.\n",
      "@Gargarin Which one? ;)\n",
      "The only question is whether Farage is in Johnson’s pocket, or Johnson is in Farage’s pocket. https://t.co/R8FeaRufmR\n",
      "@stephenasmith1 My tweet is about Labour not dumping Corbyn, not whether he’s a good thing. They’re not going to dump him, that’s all.\n",
      "@alloaboxman I’m not in the Labour Party.\n",
      "@Thee_Roxy_Cox I’m not telling anyone to vote Labour. I’m just saying stop trying to persuade Labour to change leader, because they won’t.\n",
      "@stephenasmith1 Which is great, but nothing to do with my tweet. :)\n",
      "@Arkenor One or two.\n",
      "@andraswf It is if you’re with Virgin Media.....\n",
      "@db_webb And we pretty much always fight the last election.\n",
      "The trouble is, one of the shadowy third parties is now in Number 10, as one of Boris Johnson’s closest advisors. https://t.co/PTUUMdsBKU\n",
      "@KingJuanCa @brian_ebre Three of them even have basically the same tie.\n",
      "@technollama You know it makes sense.\n",
      "@db_webb History is strange stuff. Some people learn from it. Others don’t.\n",
      "@ChisieWeirdo @marklomax12 @mikew4EU @back_fights The thing is, we can work from where we are, or work from where w… https://t.co/94I71KHFEB\n",
      "@alloaboxman They can say so as often as they like, Labour won’t dump Corbyn.\n",
      "@mfowmes On which I make no comment.\n",
      "@ChisieWeirdo @marklomax12 @mikew4EU @back_fights ...which is kind of the point.\n",
      "@tracklayer @nickbeddows Which would be a fine idea, if it wasn’t for the consequence of handing the UK over to Bor… https://t.co/c9i7gpLy93\n",
      "@db_webb True, but it’s *always* been time to break the two party system. Personally I think the Coalition did terr… https://t.co/jp3Fv1f9l9\n",
      "@marklomax12 @ChisieWeirdo @mikew4EU @back_fights There’s no moral high ground for anyone right now.\n",
      "@ChisieWeirdo @marklomax12 @mikew4EU @back_fights Since the Brexit vote, it’s all been about damage limitation, fra… https://t.co/49TYbBXWsb\n",
      "@marklomax12 @ChisieWeirdo @mikew4EU @back_fights Errr.... none of that relates to what I was saying. And as someon… https://t.co/E5QWX4LYyJ\n",
      "@crislar Then don’t vote for him. Just don’t bleat about how Labour would be better if Starmer were leader, because… https://t.co/tIicu8dFY8\n",
      "@marklomax12 @ChisieWeirdo @mikew4EU @back_fights And there’s a reason to vote for a lesser evil. Surprisingly enou… https://t.co/9NbyU6HjpB\n",
      "@HandsOffLondon @SimonFRCox As I said, I’m to the left of Labour on lots of issues.... ;)\n",
      "@amandas81849097 @TheFabledAesop Which is sad if you want to defeat the Tories...\n",
      "@Minghowriter @BBCNews Sigh.\n",
      "@OjazzO @Barnabyspeak I’m delighted to hear it.\n",
      "Loading next page...\n"
     ]
    },
    {
     "name": "stdout",
     "output_type": "stream",
     "text": [
      "@ravsgill I wasn’t suggesting voting Labour....\n",
      "@OjazzO @Barnabyspeak Have a little think and you might work it out. Or not. ;)\n",
      "@OjazzO @Barnabyspeak Thanks for missing the point. Not needed either. 👍\n",
      "@nickbeddows Which is fair enough, but not really the point. They’re *not* going to dump him.\n",
      "@OjazzO @Barnabyspeak Say it if you like. If you like pissing into the wind, particularly. :)\n",
      "@CliveWismayer @Maxmycat Very white smoke indeed.\n",
      "@barneyc Sigh.....\n",
      "@LeftWingKav Of course, but failing to end Brexit makes it all-but-impossible to reverse austerity for decades.\n",
      "How will UKIP survive without Dick Braine? https://t.co/VF1m4B7hcV\n",
      "@StevePeers Now only Cleverly remains to fight the good fight against it.\n",
      "Why I won’t be lamenting the loss of Amber Rudd...... https://t.co/1uZV8tvR7R\n",
      "@andraswf @almostconverge We have a great Arabic supermarket in Cambridge with really excellent spices. The best Iranian saffron.....\n",
      "@RealBristolBoy I was really talking about all those people bleating ‘if only Labour brought back David Miliband/installed Kier Starmer’....\n",
      "@almostconverge @andraswf Ah, the caraway.... my dad always put caraway in his red cabbage....\n",
      "@Soxfan73 @LeavingPlanet There hasn’t been a non-depressing option in our lovely democracy for many years.\n",
      "@RickfUk Which is a fair enough tune to play.\n",
      "@LeavingPlanet Yes, the chances of a Labour majority are minimal, and for Lib Dems a hung parliament would be bette… https://t.co/wgJUXRYZu2\n",
      "@LillyLyle @Barnabyspeak It’s easier in Scotland....\n",
      "@DawnShotton4 I’m not in the Labour Party.\n",
      "@barneyc I’m not sure I can tweet without snark anyway.\n",
      "@LillyLyle @Barnabyspeak ...but he won’t.\n",
      "@LillyLyle @Barnabyspeak That may be true, but they won’t.\n",
      "@CarlileVernon83 @UKLabour That’s true, but not really what I was tweeting about, which was all those people saying… https://t.co/NYdHlU0HPy\n",
      "@andraswf One that works on a regular basis, even with ingredients available in the UK.....\n",
      "@jimgibs0n In Scotland, your choices are pretty clear anyway, and Corbyn’s pretty much irrelevant.\n",
      "@andraswf Do you have a reliable goulash recipe?\n",
      "@PriyamvadaGopal Oh, that I can do too. 🐈\n",
      "@KamaliMelbourne Oh, I can do that! There’s a game tonight too...... 🐺\n",
      "@Barnabyspeak You can say it all you like, but it’ll be like pissing into the wind. :)\n",
      "@nokidding3 Which is all very well, but not what my tweet is about. :)\n",
      "@thefishareloose I’m off cheese at the moment I’m afraid.\n",
      "@LeftWingKav Brexit is all about austerity.\n",
      "@Frances_Coppola They especially dislike foreign fish. And foreigners eating fish.\n",
      "What do you want me to tweet about for the next few weeks?\n",
      "@strolltoitaly Simple.\n",
      "@indigojo_uk I won’t be lamenting the loss of the woman who said ‘real people don’t need encryption’.....\n",
      "@Barnabyspeak Er, no, what? I’m not saying vote for Corbyn. I’m saying stop saying ‘Labour needs to change its lead… https://t.co/S4jU4p6iF0\n",
      "@strolltoitaly And yet voting for them may be the only way to stop a Tory majority which would ensure the hardest o… https://t.co/SXJGOc1WjM\n",
      "The election of a man like Boris Johnson, with his record with women, isn’t exactly a signal that the Tories take t… https://t.co/tQWtoagyoE\n",
      "@F_Kaltheuner @NewStatesman Well quite.\n",
      "@Sean1934 @pvandck @terrychristian @mikew4EU @back_fights And that’s a very misleading comment too: plenty of us wh… https://t.co/rnm05RSSWE\n",
      "@pvandck @terrychristian @Sean1934 @mikew4EU @back_fights Except that the super-rich will make a killing, increasin… https://t.co/AMqQBgXtbL\n",
      "@cassiemonoo And that’s your priority, over Brexit, over the devastation that Boris Johnson’s vultures will wreak?\n",
      "@neskatxa @jeremycorbyn The difference is that voting for a deal means that deal happens, whilst with Corbyn it’s only a ‘risk’ of Lexit.\n",
      "@feelfascination @kyrl23041714 One that missed mine.....\n",
      "@Sean1934 @mikew4EU @back_fights Who mentioned the Lib Dems??? I’m to the left of Labour.\n",
      "@hawktalk_blog @tim2040 Couldn’t agree more.\n",
      "@kyrl23041714 Yup, a classic cock-up.\n",
      "@Sean1934 @mikew4EU @back_fights Reversing the massive levels of inequality in the U.K. would be *much* easier if w… https://t.co/Cs0LjCBvtT\n",
      "@feelfascination @kyrl23041714 I was making a point........ perhaps you missed it....\n",
      "@Bertiebobo The Tories will probably parachute in a hard Brexiter anyway....\n",
      "@StubCrouch It’s very short, but that’s the point. :)\n",
      "@worgztheowl They are, and they shouldn’t. In a Tory/LD marginal the best way to support Labour is to vote LD.... ;)\n",
      "@StubCrouch Yup! Small, cheap, accessible and out in February, all going well...\n",
      "@worgztheowl Your choice is simple....\n",
      "@Paul1Singh @gsoh31 Particularly with that typo... they’ve got us by the ‘nads.\n",
      "@JeSuisToryScum @thompsonkf1 @mikew4EU @back_fights And not nearly enough (former) Tory voters who refuse to help a… https://t.co/A1icJJ1UNZ\n",
      "@john_connett @GoodClearTweets True, but on the other hand if Labour is part of a ruling coalition we want as many… https://t.co/8Xv8xLOU8A\n",
      "@thompsonkf1 @ActualRobPerry @drphilhammond If the parties are too pig-headed to work together, we have to do it for them.\n",
      "@Paul1Singh @gsoh31 Think tactically, that’s all. How can you best support the least bad outcome?\n",
      "@MarkSpurs @gsoh31 In your constituency you won’t have to.\n",
      "@JeSuisToryScum @kyrl23041714 How do you know I haven’t? (I have)\n",
      "@JeSuisToryScum @mikew4EU @back_fights If you think that, there’s no hope for you. :)\n",
      "@gsoh31 I’m not saying ‘time to vote for Corbyn’. If Corbyn’s your red line, don’t vote Labour - just don’t think y… https://t.co/rXlnxUseRq\n",
      "@tim2040 Quite. If Corbyn is your red line, don’t vote for him - but don’t think you’re going to persuade Labour to… https://t.co/XnyHrfxG0W\n",
      "@Sean1934 @mikew4EU @back_fights Most of the people I know oppose Brexit precisely because Brexit will harm public… https://t.co/IN6OXRstlz\n",
      "@hilaryhendy Yet.....\n",
      "*received page proofs of new book face*\n",
      "@ChuggerMc I’m not trying to inspire....\n",
      "@GoodClearTweets @john_connett In Cambridge, to be honest, it makes little difference. Zeichner always votes the right way.\n",
      "@patrickseurre The difference is the ‘probably’ versus a cast-iron certainty.\n",
      "@mikew4EU @back_fights As was I.\n",
      "@mikew4EU @back_fights And you are willing to sacrifice the country to Boris Johnson in order to ensure Labour chan… https://t.co/k8aJNUivol\n",
      "@walker_gian It depends where you are. If you’re in a Tory/Labour seat, the best way to help the Lib Dems is to vot… https://t.co/1qRg0NZ1Xb\n",
      "@TheFabledAesop So you have a different question to answer: if you’re in a place where the Lib Dems have the best c… https://t.co/BKBWJoYv8w\n",
      "@patrickseurre We shouldn’t, but if the alternative is a Boris Johnson majority, we have little choice.\n",
      "@ActualRobPerry Vote for whoever has the best chance of beating the Tories, wherever you are. In a Tory/Labour marg… https://t.co/s34KTWDqwN\n",
      "@Jackie_A_Long I make no judgment about that at all. It’s just that we have no time and it’s not going to happen.\n",
      "@blankexpression If they’re the only realistic chance of beating the Tories, you have no other choice, really.\n",
      "@kyrl23041714 ...as will tribal dislike of one of the other parties, whether it be the Marxist Corbynistas or the Y… https://t.co/2SvR0RHOkv\n",
      "Look, people, I know a lot of you don’t like Jeremy Corbyn, and I know you think it would be better if Labour had a… https://t.co/Ihblk7LBFa\n",
      "@ShakeyStephens Having never been cool, I’m afraid I didn’t.\n",
      "@Hahahenryhaha It should have been Labour’s message from the start.\n",
      "@andraswf @thefishareloose I’ve heard the ‘you’re being racist by preferring EU migrants’ argument far too often. I… https://t.co/lhZCsaMW6x\n",
      "@thefishareloose And you don’t help non-EU migrants by removing freedom of movement for EU migrants. It’s not a zer… https://t.co/GsELVz3EO7\n",
      "@SteveLawrence_ @communistbops Every day.\n",
      "@Histrel @MsLegalSass That’s how it works, sadly. So many see it as the default.\n",
      "Loading next page...\n",
      "This is my favourite.... https://t.co/A8L8CeCPFU\n",
      "If you’re on the left, and you’re not yet following @communistbops, you’re really missing out. https://t.co/NBgZ23VSrz\n",
      "@JaneSymons1 Sadly not nearly enough....\n",
      "@MsLegalSass Sadly that’s a common story: Facebook used as a default, so you can’t escape......\n",
      "@OldGold17388096 But still better than no chance at all.\n",
      "@ShakeyStephens Sigh...\n",
      "One thing that would help (though no-one seems to want to grasp this nettle) would be to leave Facebook, and tell y… https://t.co/nDk4oK42ml\n",
      "@DoctorBeet Sorry, I didn’t read that because you don’t exist.\n",
      "@arbitrarygenius I see myself as a bit of a Peter Quill.....\n",
      "@doan1935 I’m not expecting fun.\n",
      "And Scorsese and Coppola think you can’t learn anything from Marvel. ;)\n",
      "I thought by now we would already have left, have a massive Tory majority imposing its worst on us all. That’s stil… https://t.co/4B60aPqwTt\n",
      "A few things to be thankful for:\n",
      "1) We still haven’t left the EU\n",
      "2) We have an election where there’s a *chance* we… https://t.co/KlBlX4P5J0\n",
      "@ShakeyStephens And not enough Tory remainers will be willing to shift at all.\n",
      "*Taylor Swift voice* “I forgot that you existed\n",
      "And I thought that it would kill me, but it didn't\n",
      "And it was so ni… https://t.co/gwlp8xUFjG\n",
      "Can we, just once, for a moment, just a little, pay attention to a few *remain* voters as well as leave voters? We… https://t.co/CIhLhGYoU3\n",
      "@EinsteinsAttic He’s already sold it.....\n",
      "------------------------- fetched:  199  tweets.. -------------------------\n"
     ]
    },
    {
     "name": "stdout",
     "output_type": "stream",
     "text": [
      "@youngvulgarian tweeted: \n",
      "Actually, one interesting stat - female MPs represent 20% of the current Tory benches but 25% of the ones resigning… https://t.co/GOILzTQUiF\n",
      "Okay I've just had a quick look and female MPs represent 32% of this Parliament and currently 31% of the resignatio… https://t.co/xbBl9M6aep\n",
      "Has anyone crunched the numbers on the percentage of female MPs in this parliament vs the percentage of female MPs… https://t.co/PP9lfNFhEh\n",
      "@antoniabance Hah! Also good not food, the autocorrect on my new phone is driving me mad\n",
      "@antoniabance (and I don't love Blu but I think I want to adopt her? she's so sweet!)\n",
      "@antoniabance Nooo I love the chest hair! And I find Bagga irritating, though food we can agree on The Vivienne\n",
      "@FCDWhittaker No it's just you I think, sorry\n",
      "@antoniabance Yes! I've always been more on the side of the edgy fashion queens tbh - who's your fave?\n",
      "@alilaw_UK True, true, I did feel very powerful\n",
      "am I having a stroke https://t.co/63Qr30sbwh\n",
      "@GrantTucker Hang on, I have awful tastes in men but I'll always defend my tastes in queens\n",
      "@RoseStokes Not yet!!\n",
      "@RoseStokes Omg!!\n",
      "(my other two faves are Divina and The Vivienne)\n",
      "@fgoodway Have I ever pretended to not be predictable though\n",
      "with the caveat that I'm still catching up, I would like to say that my favourite UK Drag Race queen, based as alwa… https://t.co/kjNxCCBTXN\n",
      "@HKesvani I basically live in a happy bubble of Supergirl/Batwoman/The Flash/Legends Of Tomorrow/Fresh Off The Boat… https://t.co/G3XSiUJ6hh\n",
      "@robbiehawkins__ DM me, I'll give you three tries\n",
      "@HKesvani It's a bit weird isn't it, I find that most of the shows I actively watch and like aren't the ones there'… https://t.co/ECoCVeaTfc\n",
      "@richardjgodwin @clairestrickett Hmmmm I guess, as long as they're as culturally widespread as gouter is in France\n",
      "@richardjgodwin @clairestrickett No, because it is a set thing at a set time, whereas snacking is non specific food… https://t.co/S5OQZY7Qox\n",
      "@richardjgodwin @clairestrickett Yes that's the gouter, it's a meal\n",
      "@ldobsonhughes whaaaaat the fuck, also the bit about how he'd seem easy to dom but without asking him first, yiiiikes\n",
      "@TyronWilson I do also always call Mark Harper \"Marper\" in my head tbh\n",
      "@tombarfield To be fair the worm list is more a me thing than it is a British politics thing\n",
      "Nick Timothy, knock twice if this is you https://t.co/uYJmuB560y\n",
      "@lottelydia @JonnElledge :(\n",
      "I read MRP as \"merrrrp\" and you cannot stop me\n",
      "@fgoodway @JackTindale No theirs is better\n",
      "@Ned_Donovan @JackTindale !!! Simon is so good\n",
      "@clairestrickett @richardjgodwin Yes I would add that I am in favour of formal snacking (eg the apero with a glass… https://t.co/OdGljGCrNb\n",
      "@JackTindale Hooooly shit I need to become a Privy Councillor\n",
      "@richardjgodwin @laurenzcollins No that's drunk teen bingeing which doesn't count, also nibbling the end of a bague… https://t.co/jbSdkXI6Aw\n",
      "@idvck That sounds great\n",
      "@JackTindale What the fuck? You get a fancy jacket is you join the Privy Council?\n",
      "@laurenzcollins @richardjgodwin I do feel oddly strongly about it, we never had any snacks in the house, to the poi… https://t.co/Z21rsklVEV\n",
      "@richardjgodwin Good\n",
      "@richardjgodwin Snacking is wrong and for the weak-willed\n",
      "@thhamilton \"political journalist / author / not a deranged sex thing\"\n",
      "I really want to add to my bio the fact that a minister once said he'd eat a worm if I asked him to but I worry tha… https://t.co/5qqQT39Llc\n",
      "@jimwaterson oh man I knew that and hadn't even considered sending it to anyone, really feel it was a good decision… https://t.co/Io4V0gYxmS\n",
      "@ennacooper The Gladstone in Borough? It's got a lovely kind hidden room upstairs\n",
      "me finishing Haven't You Heard?: have I been too kind to the bubble in this? has my deep interest in politics made… https://t.co/8BEHe2wCOn\n",
      "FUCK 'EM UP AMBER https://t.co/kf18qWm3XW\n",
      "@tarajaneoreilly I showed my mum the pictures from my book launch and her main comment was asking if James Cl*verly was single :(\n",
      "can't stop being Speaker if you don't stop speaking https://t.co/LblS5dWy07\n",
      "just had the dawning realisation that we're about to have to learn the names and faces of so many new MPs, oh god\n",
      "@mikeysmith oh bless him he looks so thrilled\n",
      "so she gave that interview full of fawning Boris quotes for nothing, huh?\n",
      "\n",
      "😬 https://t.co/0ayM90wes5\n",
      "been on a waiting list for a surgical operation I need since July and it's now looking like it'll be around or on e… https://t.co/udZQfLRXhj\n",
      "@patrickcdonovan Well it's not even midday yet, for a start\n",
      "@alexhern goob\n",
      "(please praise me on the fact that I went with an emoji and not any of the, say, roughly 17 jokes I had in mind ori… https://t.co/Kvpt7Z52kM\n",
      "@RobDotHutton we discussed weirdly horny email titles from political parties at the last election, didn't we? becau… https://t.co/bDbY7oiiaa\n",
      "👀 https://t.co/RAeGcBkgeb\n",
      "you can take the girl out of music journalism... https://t.co/SdT46upsBr\n",
      "@vicparsons_ Yesss\n",
      "@jonwalker121 God no\n",
      "@OnTheWoolsack I did a talk about this recently if you're interested, although I'm largely just agreeing with you in it\n",
      "earlier today I tried to show some friends that I could touch the ground with my hands with my legs still straight… https://t.co/74FYs91dHJ\n",
      "@MagazineFence (although if someone reading this is on £3/word at the Times....you know where to find me)\n",
      "@MagazineFence I'm in journalism Charlie, how much do you expect to make from the Fence on the long run\n",
      "@AmemeHack ahh that's really interesting - I knew it was used across the arab world but in hindsight it's not surpr… https://t.co/YClejr46oX\n",
      "@MagazineFence Hah! Having just checked their prices, I suspect I'd really need to find a Successful mentor for that to work\n",
      "@SarahDuggers *Payin'\n",
      "@AmemeHack Also where's she from, if you don't mind me asking? I always find it interesting to see where in the world my name crops up\n",
      "@AmemeHack Eyyyy 🎉\n",
      "@AmemeHack Sultana, my middle name/Moroccan name!\n",
      "want to say that again pal, not sure the message is clear enough in the email https://t.co/2Zx9Gyc4wW\n",
      "@tomwilliamsisme Omg! I didn't look at that!\n",
      "@RalfLittle I looked at the menu certain it would be there and it wasn't :( truly a modern day tragedy\n",
      "@alixmortimer That's a really good point! And yes I guess what I'm looking for is more someone a bit older I can as… https://t.co/xSO0kCS5yO\n",
      "@Hariboconomics Oh for the love of god\n",
      "@HolyroodLiam hang on let me find a mentor first, then we'll see\n",
      "got entirely sidetracked trying to think of my ideal mentoring situation and am now very distraught because apparen… https://t.co/yjClur3hlS\n",
      "@PennyRed &lt;3\n",
      "@unfortunatalie Oh pal :(\n",
      "@SarahDuggers Fancy a McDonald's?\n",
      "how does someone go about having a mentor, I would like to have a mentor, please get in touch if you are someone wi… https://t.co/IL8UCj7k3u\n",
      "Yes! I've had well-meaning friends DM when they've seen people being mean about me online and......... please don't… https://t.co/9eXPrwSazj\n",
      "battle bus to Slough\n",
      "\n",
      "battle bus to Slough\n",
      "\n",
      "🎶\n",
      "------------------------- fetched:  81  tweets.. -------------------------\n",
      "@JolyonMaugham tweeted: \n",
      "@StrongerInNos Really? Since 2010?\n",
      "Data on MPs quitting by gender here (courtesy of @SamPHarries) https://t.co/ePTQmgT4Zm\n",
      "@ZiggyA91 I was once something of a fan. But I think she's really struggled in the last few years as the Party has… https://t.co/GIXUo5n1Kv\n",
      "Nicky Morgan's journey from 'One Nation' putative leadership candidate in 2015 to leaving Parliament only four year… https://t.co/QvpzJFx4eT\n",
      "Homelessness up 165% in England and 209% in London since the Tories came to power. https://t.co/8yf1ziaLIE https://t.co/ep0CUJb2XJ\n",
      "@ProfThomasDixon @BestForBritain I know the organisation pretty well - but have no connection with it. Let's hope t… https://t.co/RFECrS1ac9\n",
      "@ProfThomasDixon @BestForBritain I've just looked at my neighbouring constituency which is a Lib/Lab marginal and i… https://t.co/rf2HEiFFYk\n",
      "@ProfThomasDixon @BestForBritain Im in a Remainy London constituency and it suggests I vote Labour.\n",
      "@SamPHarries @fascinatorfun V grateful.\n",
      "If it helps, these tweets were my reaction to a number of accounts tacitly suggesting there's some morally sheltere… https://t.co/y2JXyqkOZ8\n",
      "@joy_lo_dico But an answer to your question? Not pushing the LDs btw, am pretty underwhelmed by some of what they're up to...\n",
      "Entranced afresh by this masterpiece from @TheUnthanks.\n",
      "https://t.co/6xUDa5BdDn\n",
      "@joy_lo_dico Confidence and supply?\n",
      "@juliamacfarlane Hold back on the After Eights. https://t.co/tdBd5X193Q\n",
      "@juliamacfarlane @TomeLevi More cake, Julia.\n",
      "@policysketch @BestForBritain @GoodLawProject There are some fair questions being asked. I hope @BestForBritain address them.\n",
      "@policysketch @BestForBritain @GoodLawProject In particular a comparison between my long knowledge of the principal… https://t.co/bpAtG7AjNi\n",
      "@AdamWagner1 @jamesrbuk Well, sometimes, in reality, there aren't. I wonder what you say about accounts tweeting \"d… https://t.co/tkDVUl1irh\n",
      "@AdamWagner1 @jamesrbuk I'd say it is an uncomfortable tweet in an uncomfortable area.\n",
      "And here, via @StevePeers, they are https://t.co/ra1Xj3sgRU\n",
      "@AdamWagner1 @jamesrbuk Johnson and who care about the rights of vulnerable groups.   My second tweet says that we… https://t.co/MsfMmBixBH\n",
      "@AdamWagner1 @jamesrbuk I haven't muted Jewish voices that a Corbyn Government would be bad for Jews (and forgive m… https://t.co/A4MscWGroF\n",
      "@AdamWagner1 @jamesrbuk There are two tweets - six minutes apart (for obvious reasons I write them carefully) and i… https://t.co/gOFjLFplnz\n",
      "We have just been told by the Government that the relevant European Union (Withdrawal) Act 2018 (Exit Day) (Amendme… https://t.co/RVeoDWz6ND\n",
      "We have just been told by the Government that the relevant European Union (Withdrawal) Act 2018 (Exit Day) (Amendme… https://t.co/wd0yduVPmQ\n",
      "@SimonSidleman It should be, of course.\n",
      "@AlbertoNardelli I hope they're right.\n",
      "@AlbertoNardelli Where do you get that from? The EU's understanding (recorded here) is not necessarily the same as… https://t.co/1ScnOZZ6kr\n",
      "@yezzer Indeed. But I'd rather not rely on that.\n",
      "@cats_servant Thanks, is there a link, please?\n",
      "@jesperg29 do you have a link, please?\n",
      "@SimonSidleman Thanks; I am aware of that. But what the EU understands is not conclusive evidence of fact.\n",
      "Is anyone keeping track of MPs standing down by gender?\n",
      "No desire to cause alarm but... https://t.co/f5W0QV3YIe\n",
      "In the circumstances, we are seeking an urgent hearing before the Inner House and are instructing Counsel to appear.\n",
      "No regulations have yet been made. We wrote to the Government this morning asking about these regulations and have… https://t.co/EzvConvPGa\n",
      "By section 20 of that Act “exit day” can be amended by regulations which, by subsection (4) as amended, “must” be m… https://t.co/vRkBoWYBGU\n",
      "By section 1 of the European Union (Withdrawal) (No 2) Act 2019 the European Communities Act 1972 is repealed on “exit day”.\n",
      "There has since been a formal decision (https://t.co/sB6yaDNEA3) which does not appear to have been accepted.\n",
      "It is not *entirely* clear to me that the Prime Minister has taken this step: the only letter he has written accept… https://t.co/qzpUh4ci5q\n",
      "By section 3(1) of the the European Union (Withdrawal) (No 2) Act 2019 the Prime Minister “must, immediately after… https://t.co/aHpmaFwGnp\n",
      "@headofamouse @AdamWagner1 I don't lay it on one community. I tell people to listen to what Jews are saying about w… https://t.co/sGE9RupPp3\n",
      "@anne_goldgar I get that a lot. From some trans campaigners and some feminists. From some Labour voters and some Je… https://t.co/Ngp6S5V7ST\n",
      "@robertshrimsley I'm really sorry you've written that, Robert. I don't think it's fair. Neither of us would want th… https://t.co/3pkH0A5BQa\n",
      "@saramill You just told people to!\n",
      "@robertshrimsley Here is what I tweeted, Robert. How can this be read as \"telling them it is ok to vote Labour\"? Vo… https://t.co/5o1fFK8qpN\n",
      "@saramill Delete those words then. What message do you take from the rest of my tweet?\n",
      "@robertshrimsley I think that both (1) the choice facing voters in Lab/Con marginals is more complex than your resp… https://t.co/WyUX9khRdL\n",
      "@headofamouse @AdamWagner1 https://t.co/jzOQKMMrFe\n",
      "@LawyerLinguist And my tweets express precisely that sentiment.\n",
      "@AdamWagner1 Well, Adam, that's why my tweet says \"Jews and non-Jews\".\n",
      "@AdamWagner1 I hope it can't fairly be read thus, Adam. I try to pose what I think is a fair question. How people answer it is for them.\n",
      "@AdamWagner1 It's aimed at those - Jews and non-Jews - whose voting behaviour will be influenced by the evidence of Corbyn's anti-semitism.\n",
      "It is not for those - like me - who are only very peripherally Jewish to suggest how that dreadful conundrum might… https://t.co/uuyBHVZEFO\n",
      "When Jews talk about what a Corbyn PM means for Jews they must be listened to. But it is wrong to shut our eyes to… https://t.co/mshILs5sXT\n",
      "@MyopicRaccoon @BestForBritain @GoodLawProject Best for Britain has tweeted about it.\n",
      "@mattjware @BestForBritain I'm afraid I can't help with that.\n",
      "@BestForBritain (For the avoidance of doubt, I have no links with @BestForBritain or its directors or donors: I hav… https://t.co/x8xufmU015\n",
      "@mattjware @BestForBritain I assume you are in a very Remainy constituency. So am I, fwiw, but it tells me to vote Labour.\n",
      "@AustraliaToon1 @BestForBritain Mine too (for what it's worth). One of the things I looked at before recommending w… https://t.co/9vapnVSk17\n",
      "@AustraliaToon1 @BestForBritain Thanks. I am sure Best for Britain will action.\n",
      "If you want to vote tactically - and the evidence is that tactical voting stands between a Leave Government and a R… https://t.co/polMlEA23P\n",
      "If you want to #MakeitStop you can write to your MP here https://t.co/obtK1o27LC\n",
      "Rape trial 'deliberately sabotaged' by Tory Assembly candidate https://t.co/RlKhBBYcOm\n",
      "The only way to 'get Brexit done' is to revoke Article 50. The Tories plan negotiations with the EU and other state… https://t.co/HtTNS7bali\n",
      "@judithmknott @MichaelPDeacon @heidiallen75 As you know, I share a lot of that anger. But journalists are often not… https://t.co/evftYrnzZC\n",
      "@judithmknott @MichaelPDeacon @heidiallen75 I don't think Michael quite deserves that. He's not a bully or a misogy… https://t.co/Q9qi5IbJhU\n",
      "This morning I am remembering when Boris 'Die in a Ditch' Johnson told the High Court that no one could possibly be… https://t.co/kafwdyNLMX\n",
      "@GuardianHeather In 2015 Chuka Umunna was clear front-runner to replace Ed Miliband, and he isn't either. Amazing h… https://t.co/jHMRfByBnx\n",
      "------------------------- fetched:  69  tweets.. -------------------------\n"
     ]
    },
    {
     "name": "stdout",
     "output_type": "stream",
     "text": [
      "@IanDunt tweeted: \n",
      "@lyman_brian Oh, me too.\n",
      "That and whenever they show a baseball bit. It always goes slow-mo for the throwy-hitty bit and then I'm like: What… https://t.co/AFu3Okfqh4\n",
      "Also always the worst part of American TV series.\n",
      "I thought the Americans were supposed to be the ultimate materialists. They've fucked that one right up.\n",
      "Still don't get Thanksgiving. It just sounds like Christmas but without the presents.\n",
      "@ChantayyJayy @Miss_Toppin Cheers both. Welcome to pitch me at ian.dunt@politics.co.uk.\n",
      "As @anandMenon1 said a while back, a Corbyn in Sturgeon's pocket poster would be very compelling to a lot of Remain… https://t.co/0J4gnK15fA\n",
      "@hugorifkind But that was the only reason I liked it.\n",
      "Watching Tory MPs nod sagely every time Johnson says the machine programmed 'dither and delay' lines is really something.\n",
      "What a way to go, really. For someone of Clarke's stature and history to leave the Commons an independent, chucked… https://t.co/XTRmvi1Jao\n",
      "He either refused to pay his respects out of spite, or because he forgot. Either way, he hands a big meaningful Tor… https://t.co/Wc9K6lKzGu\n",
      "Worth noting this moment. Johnson having a pretty shoddy time at the dispatch box. Not emotionally convincing, or i… https://t.co/QC29Ps1xML\n",
      "\"The rt hon gen is one of the most popular and respected politicians in our country. He deserves the warmest apprec… https://t.co/a8omUkTXsP\n",
      "Johnson fails to pay any tribute whatsoever to Clarke. So Bercow steps in. \"As the father of the House leaves this… https://t.co/hKCqdC7t2G\n",
      "Ken Clarke to Bercow: \"During your decade, there have been unprecedented attempts to increase the power of the exec… https://t.co/HaymIEYbbi\n",
      "Jess Phillips to Bercow: \"It's a delight to see your children watching here today. I know that while you have a res… https://t.co/ofIu0mzCaQ\n",
      "@shill182 I doubt any of the three would have liked it, except maybe Harriet.\n",
      "@cjayanetti I can't believe you're trolling me when you should be sending me the copy.\n",
      "Quite telling how effective it is when Corbyn lumps NHS and Trump together. Avoiding Brexit while simultaneously weaponising it.\n",
      "Corbyn proving relatively effective against Johnson here. The poshness works against Johnson. And that sense of slipperiness.\n",
      "Good call there. Lenthall would be my third choice, after Richard Overton and Harriet Taylor Mill, for any new statue in London.\n",
      "Corbyn to Bercow, during his last PMQS: \"In the tradition of the great Speaker Lenthall and others, you've stood up… https://t.co/AbBEZdbjzF\n",
      "I am actually begging political parties to stop with this first name email thing, it is icky as all fuck. https://t.co/QbWLyWqaJ6\n",
      "Boris Johnson's Brexit deal punches a hole in UK economy the size of Wales  https://t.co/GL8GWm4uhg\n",
      "@PhillipAdams_1 Adams.\n",
      "This will be the most uphill, fraught, emotional, gruelling political battle many Remainers will have ever faced. B… https://t.co/mRtZzf6x5D\n",
      "This is really quite an impressive election video. https://t.co/cq0ftYKhi7\n",
      "Right, now I'm going to drink this wine and eat this weird vegetarian haggis the missus bought. Night all.\n",
      "Remainer's worst outcome is exactly the same as it was last week. But their best outcome has just markedly improved.\n",
      "Full report on the shenanigans in parliament today and why opponents of Brexit have a lot to fight for.\n",
      "Election 2019: Remainers have just been saved from what looked like near-certain defeat. They now have one last cha… https://t.co/B26YXAi90h\n",
      "This is a shame. He was a properly principled, eloquent, far-sighted MP and fought hard on Brexit. https://t.co/cBk5SmUxa3\n",
      "Ok that's it for the Chamber for tonight. Full report on what just happened in a bit. I'm going to write it up while chinning that wine.\n",
      "Mogg says all normal sessions will continue as before. \"I accept that I am not giving further business but this is… https://t.co/KlwDZmxO1O\n",
      "Sheerman: \"There is a feel today that his statement isn't very full. He doesn't mention what's going to happen in t… https://t.co/xYUFt8MGXG\n",
      "Labour accepts the business.\n",
      "Business tomorrow is a general debate on the Grenfell report, then remaining stages on the NI budget bill. Says he'… https://t.co/N5uAyQH0a2\n",
      "Mogg up.\n",
      "She says fear has marked the end of this parliament.\n",
      "Series of points of order first. Soubry says that in private most agree that \"a majority of backbenchers on all sid… https://t.co/Hr4rO2a8er\n",
      "Mogg is about to tell the Commons what it'll be doing until it is dissolved.\n",
      "The election is on. It's happening.\n",
      "Bill passes\n",
      "\n",
      "Ayes: 438\n",
      "Noes: 20\n",
      "Unless we end up in a hung parliament of course. But you know. Things *might* change.\n",
      "This is a rare moment guys. Something is actually happening. Shit is about to change.\n",
      "@zefrog Ah yes, I forgot about that.\n",
      "@zefrog Good question. I guess they try again?\n",
      "However, the unelected Chamber is unlikely to mess with what the elected Chamber is arranging for elections, of all… https://t.co/Hs5AJ6yQvr\n",
      "It will then go the Lords, where they can amend it. There'll be a bit of jostling there. My understanding is Lords… https://t.co/4CQcYb15qN\n",
      "Goes without saying that the bill is very likely to pass.\n",
      "On the plus side: it will be this parliament, not the next one, which picks the next Speaker.\n",
      "I remain a little suspicious that the govt will bring forward the WAB in the time available before then. Quite mad… https://t.co/I2i3WjF01y\n",
      "OK, if this goes through, we're on course for a general election on December 12th. House will sit until next Wednesday.\n",
      "That was all a bit chaotic.\n",
      "Nope. It's a division.\n",
      "MPs about to vote on third reading. Laing swaps out for Bercow. They may shout it through.\n",
      "It's a confusing situation. Commons not used to doing things this fast. \"Because the knife has fallen, amendments a… https://t.co/lNNoCzcSNx\n",
      "------------------------- fetched:  57  tweets.. -------------------------\n",
      "@BethRigby tweeted: \n",
      "Key para from @NickyMorgan01. She was the one in 2015 who talked to me about a world in which 50% of MPs are women.… https://t.co/bnMLpb3np6\n",
      "Nicky Morgan to stand down. She cites ‘the clear impact on my family’ and the ‘abuse’ of doing the job of a modern… https://t.co/QTLp4F7Zpx\n",
      "I interviewed Sarah Newton, who is standing down, for my piece on barriers for entry for female MPs. Back in 2015 s… https://t.co/6Vz5YOLXeW\n",
      "I wrote this piece just b4 GE of 2015 elex (when I was @FT). The focus then was on closing the gender gap in HoC to… https://t.co/i4tkWcXG3X\n",
      "💥💥💥💥 https://t.co/CQL15Q3Jgw\n",
      "And some of Johnson’s election soundbites trotted out there: Time to “get Brexit done and end the dither and delay”… https://t.co/cX32VyBYhh\n",
      "And, a taster of what’s to come too from Labour. Corbyn team knows Labour has to try to shift the debate away from… https://t.co/xz4TjtJ5oZ\n",
      "BREAK: Former deputy PM @DLidington has just announced he is standing down via his local newspaper \n",
      "\n",
      "https://t.co/UvH5CnPTMa\n",
      "Some soundbites you’re going to be hearing a lot in the coming six weeks. Here’s Corbyn’s attack line on Johnson’s… https://t.co/UzfJdes0bL\n",
      "The last #PMQs before the general election and the last one for Bercow In the Speaker’s chair. The final one too fo… https://t.co/5727kHCbCk\n",
      "Only Johnson’s third PMQs as PM and his last before #GE2019. Which leader will of be standing there when we come ba… https://t.co/xjfAHkpWIB\n",
      "Amber Rudd, Seema Kennedy, Sarah Newton, Mims Davies - a crop of talented Conservative women who are standing down… https://t.co/9IjwxLWvq4\n",
      "Sharp as a tack our @KayBurley https://t.co/zXtKg07zI1\n",
      "@tracey_crouch @NSoames This is a superb picture.\n",
      "And this election is the most important of modern times because what  happens in the next 6 weeks could reshape our… https://t.co/6nPBT6A8Mq\n",
      "For Tories, big opportunity if Remain vote splits &amp; PM comes thru middle. Croydon C: Lab majority 5.6k, LDs in 3rd… https://t.co/P6RZS9J5tx\n",
      "Unpredictable because it could be the election in which Brexit identities trump party ones in a country that alread… https://t.co/2mTlE6BLzr\n",
      "Fitting this most tumultuous year ends in a once-in-century event, a Dec elex. In 1923 one Baldwin won most seats b… https://t.co/DbiHHbSE1L\n",
      "SKY VIEWS: Strap yourselves in for the most unpredictable &amp; important election since 2WW. 2 of the last 3 GEs produ… https://t.co/pQ7SdxA2M2\n",
      "@VeryBigNews https://t.co/YA6BuIkqEb\n",
      "@lewis_goodall My mum was a headteacher, so this working for me\n",
      "NEW from Labour. This GE a “once-in-generation chance to transform our country” Pitch against ‘vested interests’ as… https://t.co/cSFQRFQfnu\n",
      "Fourth time lucky. MPs vote for a BREXIT GENERAL ELECTION. December 12\n",
      "------------------------- fetched:  23  tweets.. -------------------------\n"
     ]
    },
    {
     "name": "stdout",
     "output_type": "stream",
     "text": [
      "@PatrickStrud tweeted: \n",
      "------------------------- fetched:  0  tweets.. -------------------------\n",
      "------------------------- Cound not fetch @NadineDorriesMP -------------------------\n",
      "------------------------- Cound not fetch @jreedmp -------------------------\n",
      "@stephenkb tweeted: \n",
      "@tom_usher_ Torreira’s goal is a vindication of Emery’s attempts to play him as a 10.\n",
      "@theo_barclay @ollywiseman Also: Oh Mercy and Infidels.\n",
      "@tom_usher_ If I were Unai Emery, I would simply pick our best players in their correct positions.\n",
      "@CJTerry I did!\n",
      "@dirk1978 They’re visibly better at spinning broadcasters than May.\n",
      "@adampudvine Wow! Deep stuff. I never considered it like that before.\n",
      "@rayman3412 Agree. A fair bit of evidence this happened in some places in 2017.\n",
      "@Glostermeteor @patrickkmaguire @UKLabour Eh? The supposed influence is meant to be the other way round.\n",
      "Nice by @patrickkmaguire on the looming CWU strike and its impact on postal ballots. https://t.co/7tLKQdmLQB\n",
      "@ols_bxl Sure, but on this one, I'm not sure if this is contrary...\n",
      "Would it? I feel like we stress-tested \"Lib Dems collapse, Brexit party aka Ukip stands everywhere and gets 15%\" an… https://t.co/PFaDCluYdp\n",
      "@dsquareddigest Whereas I completely see the Remain case for \"vote Sam Gyimah over Emma Dent Coad\" it's just....wel… https://t.co/PJF6WloowG\n",
      "@dsquareddigest Yeah, your thoughts accord with mine. Like, although I screenshotted my result for #numbers I expec… https://t.co/EANJINF5hG\n",
      "@simonk_133 @CJTerry 100 per cent.\n",
      "@policysketch @davison_al Yeah, I am *very* dubious about the heuristics that the model suggests (i.e., sure, there… https://t.co/dLCZDniEVt\n",
      "@TPGRoberts @jack_saundrs And the website basically goes “Scotland. Too difficult!”\n",
      "@davison_al Yeah, because it's a *pro-Remain* tactical voting site and the better-placed candidates in that seat aren't.\n",
      "@jack_saundrs But we know that their vote is going up in a more efficient way than previous. The problem with LD pr… https://t.co/1ssqDcf9U1\n",
      "This...isn't surprising (or necessarily a sign that the model is bad). The Liberal Democrats are polling quite lite… https://t.co/pnGKcUruUb\n",
      "@bloonface @LeftoriumThe The advantage that Johnson has is that he has more things he can do well *instead* that al… https://t.co/TEgVnG85x5\n",
      "@LeftoriumThe Yeah, agree. JC is v good in that format and has a lot more practice. BJ poor against Ken, poor in le… https://t.co/4vZPA6OnSj\n",
      "@DavidBennun Yes, agree entirely. Most people did not know either candidate well in 2017. Most people have v strong… https://t.co/E96d0UKM7I\n",
      "@LeftoriumThe No confirmation and your thoughts accord with mine. My assumption is while most in bubble have overco… https://t.co/FwTOOt6T3s\n",
      "But: voters are even more volatile - and the biggest change variable, that the Liberal Democrats aren't going to de… https://t.co/SgPI3eVHkS\n",
      "Of course, there are a lot of important differences. Back then, Labour was broadly united on thinking it had to do… https://t.co/UE3inyPO0Q\n",
      "The polls are awful. The party is divided over Brexit. The attempt to remake Labour has ended in failure and a hand… https://t.co/PN7s4er4OE\n",
      "@Dawnf1 @jackdavies94 Agree. It's a good case study in the uses and limitations of these sites - for them to work,… https://t.co/tB0tWpuGDI\n",
      "@zatapatique @PronouncedAlva It's stunningly revealing, isn't it?\n",
      "Stepping down was Amber Rudd's only option, explains @PronouncedAlva: https://t.co/2B8EHFiRUg\n",
      "@jackdavies94 Best for Britain's tactical voting tool. https://t.co/hDaO3vynT1\n",
      "@braddders72 No, it tells me that voting Labour is my best chance of returning a pro-EU candidate. Which is true, but, y'know...\n",
      "@David02799153 \"It'll be cold and dark. Why ruin your day by getting into this?\"\n",
      "I mean, it seems unlikely to be frank. https://t.co/tkOQ1G2Pig\n",
      "@maitlis Hehe, all sorted, no need for you and Kirsty to get the baseball bats out - this time.\n",
      "@AlexGPorter The perfect crime!\n",
      "@jkbloodtreasure It’s a good coat tbf.\n",
      "@MichaelLCrick If I knew which one I’d have it back by now.\n",
      "I’m hoping Layla to be frank as she has incredible style.\n",
      "One of the MPs on Newsnight STOLE* my coat. \n",
      "\n",
      "*walked off with by accident but who’s counting?\n",
      "@chithecynic @francesbarber13 @NewStatesman @BBCNewsnight Thanks both!\n",
      "@DrMKuisma @NewStatesman Thanks!\n",
      "@garypepworth 😊 Very kind of you. Thanks so much!\n",
      "So, we're having an election. Some thoughts on #GE2019: https://t.co/ai8tSUWVID\n",
      "@alexhern 8 November!\n",
      "------------------------- fetched:  44  tweets.. -------------------------\n",
      "@AbiWilks tweeted: \n",
      "@banebutwoke We’ve noticed that voters are fed up with the status quo, so here’s the plan: the status quo... but radical\n",
      "@TheMattWain @RuairiWood Hard to know for sure tbh\n",
      "@joolsd It’s quite an enjoyable, engaging read and I def learned a lot from it\n",
      "@joolsd Mainly focused on the US ghouls involved in creating it\n",
      "@joolsd Have you read Democracy in Chains? Discusses this a bit\n",
      "@Atrios Yeah. Tbh that actually explains a surprisingly large % of stupid bullshit in UK politics currently, punching above their weight\n",
      "@Atrios Yes, but “only we can win here! [dodgy chart]” is an established Lib Dem ruse\n",
      "@suziegeewizz @RuairiWood 🥰 ily\n",
      "@RuairiWood I’m currently cheerful as fuck as a baseline state, despite the sleep deprivation, so I feel like I hav… https://t.co/dd0Jv5L2VK\n",
      "@RedAndy54 When my optimism will be vindicated, and I can continue to be optimistic with a focus on US politics\n",
      "This account is going to be 100% unbridled optimism from now on\n",
      "@CharlotteB1 @garwboy @DawnHFoster Of course. Even without that though, idea vote should be dependent on cognitive… https://t.co/rQsY7r2LbP\n",
      "@CharlotteB1 @garwboy @DawnHFoster No no no tests! Way of disenfranchising the poor and marginalised. In the US, wa… https://t.co/lxdU3SZFKD\n",
      "@CharlotteB1 @garwboy @DawnHFoster I suppose it all depends on what you think makes someone a competent voter\n",
      "@Georgeford19 @LibDems @joswinson The only thing I know for sure is that if hard Brexit happens the Lib Dems will somehow be responsible\n",
      "@RedAndy54 The babies united will never be defeated!\n",
      "@CharlotteB1 @garwboy @DawnHFoster No, but that’s kind of what I’m getting at with as many people as possible unles… https://t.co/yANqk8jpC1\n",
      "@CharlotteB1 @garwboy @DawnHFoster Tbh, I want to enfranchise as many people as possible who are actually affected… https://t.co/8MPcW531LE\n",
      "@CharlotteB1 @garwboy @DawnHFoster They’re both equally arbitrary but I think the more people we can enfranchise th… https://t.co/E1VKkg453S\n",
      "@socialistMike Lmao\n",
      "@berniebro2000 Oh yeah? I don’t think I even know what their policies are beyond devolution\n",
      "@JoMicheII Hahaha\n",
      "@graham_copp That’s pretty cool!\n",
      "@berniebro2000 lol nope! I have never voted anything but Labour, though I do understand people preferring Kennedy era Lib Dems to Blair fwiw\n",
      "@CarlBeijer Whenever she sees him she beams, stretches out her arms towards him and says “uncle Bernie is the only… https://t.co/O7f2tJWL4V\n",
      "@JoMicheII Hmmm, no spitting?\n",
      "@CharlotteB1 @DawnHFoster @garwboy Sure, but I don’t think that kind of personal development is anything close to a universal experience\n",
      "This is the first election when I can launder my opinions through my child, exciting! My 9 week old baby hisses whe… https://t.co/9gJd4sAxrf\n",
      "@DawnHFoster @garwboy What do they think is going to magically happen to their big idiot sons on their 18th birthday?\n",
      "@sunny_hundal @rmirgvraj @imbadatlife Yeah, he polls very well against Trump though, also has a higher percentage o… https://t.co/1Er7UYMvtG\n",
      "@davidrobbo66 @sunny_hundal I think she’s clear second best, but here’s a short thread summarising why I have a str… https://t.co/mwCjZtFtf0\n",
      "@sunny_hundal @rmirgvraj @imbadatlife I don’t think weak attacks from Republicans are necessarily going to convince… https://t.co/R9ZoBJuwGN\n",
      "@davidrobbo66 @sunny_hundal Also this isn’t journalism lol it’s my extremely partisan personal twitter account\n",
      "@davidrobbo66 @sunny_hundal “Warren as not left wing enough is bizarre” is such a weird take, you don’t think it’s… https://t.co/Y88Lvx53rm\n",
      "@karinjr @sunny_hundal How many national polls have there been since the NH one?\n",
      "@opinion_left @sunny_hundal @imbadatlife Yeah, I don’t think this is actually an issue for that many people outside of punditry\n",
      "@sunny_hundal @imbadatlife Sanders isn’t weak on how will pay for it. In the debate I saw he was clear taxes will i… https://t.co/dzdZXauneV\n",
      "@sunny_hundal I think he’s going to be President 😊\n",
      "@imbadatlife @sunny_hundal Fine, he’s on the up though and increased scrutiny has clearly been a negative for Warre… https://t.co/S1lmXdkpUx\n",
      "@sunny_hundal I think I’ve been looking at the recent state by state ones, e.g. New Hampshire. What’s most recent n… https://t.co/2g16QBs1aC\n",
      "@PoliSciJack @sunny_hundal In the most recent poll I’ve seen he’s jumped ahead of Warren\n",
      "@sunny_hundal He’s currently leading the polls. What makes you say that?\n",
      "@JonnElledge @Modern_Lockey Also, on a personal level stuff like loaning money to family at high interest rates to… https://t.co/x3LNmHAS9q\n",
      "@JonnElledge @Modern_Lockey trying to incentivise hospitals by punishing those with bad maternal mortality rates wi… https://t.co/JtBk1pdXWu\n",
      "@JonnElledge @Modern_Lockey Foreign policy (see e.g. her reassuring donors Max Berger isn’t involved in any Middle… https://t.co/khqQOd4TmL\n",
      "@Modern_Lockey You seen the recent polling? She’s dropped and he’s had a boost\n",
      "@talktoharris1 @weissmann_dan @graceblakeley Sure, it wasn’t the part I was attempting to boost fwiw\n",
      "Bernie Sanders as POTUS + Jeremy Corbyn as UK PM is a very realistic possibility. The future doesn’t have to be con… https://t.co/vXuKBjFcla\n",
      "@banebutwoke I think blanket ignore this stuff, as much as possible, provoking reaction is part of the game. I know easier said than done!\n",
      "@talktoharris1 @weissmann_dan @graceblakeley I mean, I would say only if they are found guilty of committing mailab… https://t.co/AuL4TJENqF\n",
      "@GavinHJackson @leftoutside No idea, it’s one guy. He’s someone who did previously write Corbyn off over the coal nonsense fwiw\n",
      "@GavinHJackson @leftoutside I know one longtime committed Green who is planning to vote Labour because he found the… https://t.co/zbWN0IhS1f\n",
      "@DaveOneSixNine Lol I’m still not quite 30 myself\n",
      "@naikrovek Nobody should lose the right to vote, of course older people are voting for their own future. What’s mor… https://t.co/OD4cHLTKE1\n",
      "@lornakgledhill @jacquibroadhead Just outside of DC, in Maryland\n",
      "@SmokinKones Exactly yeah\n",
      "Tbf though feeling valued and respected might contribute to how nice all the teens seem to be?\n",
      "Not suggesting a causal link, but the sky certainly has not fallen in https://t.co/uvU19L04gS\n",
      "@trebormoore The adults skateboard here https://t.co/FVFAWQabdV\n",
      "I live in the first ever place in the US to allow 16 year olds to vote in local elections, and it’s the most pleasa… https://t.co/jQy3U9l6pA\n",
      "@TheSinanKose My mum is an enthusiastic sharer of anti-Tory memes so I’m going to leave her to it\n",
      "@TheSinanKose @brief_rants The alleged threat of invading swarthy hordes from Turkey was a pretty central part of t… https://t.co/tGJaR68OYS\n",
      "@TheSinanKose @brief_rants Shrug at best, often launch spirited arguments about how it’s uncouth to suggest those r… https://t.co/1z1ptCITX5\n",
      "@brief_rants @TheSinanKose “We know you are in grave danger, but we refuse to tell you how” is like something from a horror film\n",
      "@NeilOutOfTime @TheSinanKose At this point it really does seem like an effort to emotionally terrorise a minority c… https://t.co/5ldePzM04C\n",
      "@TheSinanKose If you genuinely believe there’s a danger, it’s surely incredibly fucked up of you to reuse to explai… https://t.co/00dqRFT1TE\n",
      "@banebutwoke Apart from anything else, they seem totally happy to terrorise normal Jewish voters with these kinds o… https://t.co/dT9qbE2Xmr\n",
      "@banebutwoke Going to try and make this the last time I engage with any of this until the election. The stakes are… https://t.co/3ilLxYoNZf\n",
      "@banebutwoke The Conservative gov presents a clear, material threat to various minority groups, not to mention anyo… https://t.co/JzKPpfy84E\n",
      "@banebutwoke Would also quite like her uncle to be allowed in the country to complete the masters programme he has… https://t.co/6UjYstxTdS\n",
      "@banebutwoke In fact she’s born abroad as well, so there’s that too\n",
      "@banebutwoke If we’re doing this, I’d quite like my kid to grow up in a country where their dad can’t have his citi… https://t.co/8fD5ZMLX7D\n",
      "Loading next page...\n"
     ]
    },
    {
     "name": "stdout",
     "output_type": "stream",
     "text": [
      "@jakebowman_ I really want to come back to the UK for it but the doctor said not to travel before the baby has her… https://t.co/0QXG8KcMSa\n",
      "Idk you but I’m genuinely buzzing\n",
      "@Redman443 I saw the polls in 2017\n",
      "Corbyn4PM Bernie4Prez\n",
      "@joe_oliver Yeah! Will DM\n",
      "I BELIEVE THAT WE WILL WIN\n",
      "@joe_oliver Are you here now?\n",
      "------------------------- fetched:  79  tweets.. -------------------------\n",
      "------------------------- Cound not fetch @jessphillips  -------------------------\n",
      "@SamCoatesTimes tweeted: \n",
      "------------------------- fetched:  0  tweets.. -------------------------\n",
      "@toadmeister tweeted: \n",
      "@JamesDelingpole and I just recorded our latest @calling_podcast. Topics covered include Joker, Watchmen, the WaPo… https://t.co/SIHAGiUnCX\n",
      "@DouglasCarswell The funny thing about the “mansion” tax is that Corbyn’s Islington home will probably be designate… https://t.co/xG6wGzkAe5\n",
      "@Tre_Animation @cjsnowdon @aynrandcentre @DouglasCarswell @yaronbrook @Lugey6 @AndrewBoff @aynrand_global If you ca… https://t.co/MlmuCLJIOa\n",
      "72 MPs say \"we will use the means at our disposal to ensure that our press ... show respect ....\" to Meghan Markle.… https://t.co/3snOtASIA4\n",
      "A vote for Labour is a vote for anti-Semitism | Coffee House https://t.co/ik7ikXI9ME\n",
      "I’m awarding a prize to the most culturally inappropriate Halloween custome. Send me your photos.\n",
      "Outstanding from Obama. Every woke person should watch this. https://t.co/pohIm2ZLB4\n",
      "@li88yinc @FDRLST Congrats\n",
      "Check out the video. The third thing Corbyn is given credit for is getting rid of the fox hunting ban. The words ar… https://t.co/ROR3gJtihs\n",
      "FFS @Peston. What’s the colour of his skin got to do with his ability to be a good governor of the Bank of England?… https://t.co/PURadkZkVu\n",
      "https://t.co/DH313i1EDf\n",
      "Schools — download this pamphlet from Civitas and get your pupils to read and discuss it. It contains two thoughtfu… https://t.co/Mt8PlzQvZY\n",
      "https://t.co/0PBaigMVP3\n",
      "------------------------- fetched:  13  tweets.. -------------------------\n",
      "@georgeeaton tweeted: \n",
      "Ironic that after all the focus on possible Labour deselections, it’s the Conservative Party that is being most transformed.\n",
      "Is the US heading for \"cosmopolitan social democracy\"? Thoughtful piece by @JananGanesh noting that the US electora… https://t.co/g1LcU8rTwA\n",
      "The ongoing People's Vote civil war makes Trotskyist sects look consensual. https://t.co/lmzzV1wMqV\n",
      "Boris Johnson has the smallest constituency majority of any prime minister since 1924. Here's @Anoosh_C's report fr… https://t.co/EkGHnvf6GI\n",
      "A key moment in Labour campaign will be the Clause V meeting  — that will determine how many of the policies passed… https://t.co/FgMcvGbf3Z\n",
      "This is around double the amount Momentum had raised at this point in 2017.\n",
      "Momentum say they have raised £100,000 in the first 12 hours of the campaign with an average donation of £24.40.\n",
      "John McDonnell: “I think we're going to win, we'll have a majority government by Christmas.” Whatever your view of… https://t.co/JV21LRWV9u\n",
      "This - and for all the “Brenda from Bristol” tweets, polls show the public are *for* an election. https://t.co/UAnkwP0q5E\n",
      "A good time to subscribe to the @NewStatesman for essential coverage of this profoundly important election. https://t.co/Dku3KtsxBM\n",
      "The magic number to keep in mind: Conservatives/Labour need backing of 322 MPs for a parliamentary majority of one.\n",
      "------------------------- fetched:  11  tweets.. -------------------------\n",
      "@jimwaterson tweeted: \n",
      "@MattTurner4L @evolvepolitics Only 2.5 years old but basically a historic document in terms of what anyone could le… https://t.co/wRCOGXhNp0\n",
      "@imbadatlife A third of Hillingdon works in professional/managerial jobs, well done everyone.\n",
      "@kadhimshubber Yes! (Although it has since turned out that Private Eye, released in print-only format in limited lo… https://t.co/iRiWMhvg5c\n",
      "@JamesHeartfield I wrote the Guardian report.\n",
      "@ftmedia Yes but enough about the FT expenses system.\n",
      "BBC arguing its own news channel is a \"relatively niche\" service with few viewers and that serious news programmes… https://t.co/MX5o85z601\n",
      "@simonk_133 Basically twitter becomes completely unusable when you get to 100k+ followers. Quite aside from being a… https://t.co/yQ2b16nk1l\n",
      "How the UK’s biggest news sites are reporting the election to tens of millions of Britons.  #todaysfrontpagestoday https://t.co/YNPTaGaOLS\n",
      "@netmnp ...and? and? Lo the angels came down from the heavens with great tidings. And they found the man who replie… https://t.co/Pkk77SVjDI\n",
      "@simonk_133 Oh fuck off.\n",
      "This doesnt seem to have been reported yet: Rachel Wolf, who is writing the Conservative manifesto, runs a lobbying… https://t.co/P8nT00vCaD\n",
      "@rcolvile @Birdyword *opportunistic plug*\n",
      "\n",
      "https://t.co/fOBfIHRfi4\n",
      "A front page that sums up the historic choice facing our nation tonight: Do we want to live in a country where Roy… https://t.co/9QkgLl8yKS\n",
      "@travelling_wolf Yes\n",
      "------------------------- fetched:  14  tweets.. -------------------------\n",
      "@RuthDavidsonMSP tweeted: \n",
      "Scotland makes the T20 cricket world cup - Fantastic! @CricketScotland #FollowScotland https://t.co/gzebJYK5Ez\n",
      "Labour admits it'll sell out to the Nats at this election... https://t.co/4AQLjjY1Rn\n",
      "There's a very easy was to ensure that call never gets made... #VoteConservative #TeamTory https://t.co/PqHRapZ7KZ\n",
      "------------------------- fetched:  3  tweets.. -------------------------\n",
      "@DavidAllenGreen tweeted: \n",
      "------------------------- Cound not fetch @DavidAllenGreen -------------------------\n",
      "@JuliaHB1 tweeted: \n",
      "Caption competition time. https://t.co/joLFw4FNjG\n",
      "Tee hee https://t.co/JppTOH7BZR\n",
      "Happy Hallowe’en eve... https://t.co/ypzI7hUt8a\n",
      "@SebastianEPayne @alexwickham Don’t those usually happen in January?\n",
      "I agree with this but it is nevertheless terrifying that Dany Cotton thinks the Fire Brigade got everything right o… https://t.co/gwpnsTelDQ\n",
      "Not sure the anti-terror police are going to be happy with that... https://t.co/2MLeMxlkWk\n",
      "@pablothehat I’m not a fan of that Trumpian language.\n",
      "@jessphillips Exactly!\n",
      "Get the coach. https://t.co/VoTrvQJMFl\n",
      "Good morning! Please join me for my @talkRADIO breakfast show from 6.30am-10am. I imagine the Christmas general ele… https://t.co/LKM8VMuEN3\n",
      "Bring cake! @nomadbakerdavid https://t.co/KhnsqbLf9X\n",
      "@benjaminbutter Ouch\n",
      "WTF just happened there? https://t.co/yX0UudJKcy\n",
      "LibDem leader Jo Swinson says “there are no limits” to her ambitions. First she aims to be the next British Prime M… https://t.co/qak1bUXr1S\n",
      "Here we go!\n",
      "Well, that’s the @talkRADIO Christmas party buggered then... https://t.co/DpdaBwiYdQ\n",
      "------------------------- fetched:  16  tweets.. -------------------------\n",
      "@DavidLammy tweeted: \n",
      "There are men, women and children sleeping tonight in buildings with the same flammable cladding that accelerated t… https://t.co/4eitb3KEte\n",
      "Shame on the fools who mocked Jeremy Corbyn for wearing a green tie in solidarity with the 72 Grenfell Tower victim… https://t.co/j4wwiX18KE\n",
      "https://t.co/3HwFKIXPgr\n",
      "Our country's future is on the line in #GE2019.\n",
      "\n",
      "Do the right thing. Register to vote. Have a say in your future be… https://t.co/GjLDVtdYIs\n",
      "What's worse is, tonight, many families will be forced to go to sleep in towers which are covered in the same flamm… https://t.co/evEthjThBD\n",
      "Years of deregulation, mistreatment of social housing tenants and cuts to fire safety caused this crime. It is a sc… https://t.co/6Go2JGa4Dr\n",
      "72 people lost their lives as a result of gross negligence which occurred way before the fire started and the fire… https://t.co/vPSkSuPxYb\n",
      "Serious mistakes were made in the procedures, training equipment and leadership of the fire service. The 'stay put'… https://t.co/x0EmyJfEKe\n",
      "I was very disappointed that parts of the Phase 1 #GrenfellInquiry report were leaked yesterday, showing no concern… https://t.co/zvlf3cPRaJ\n",
      "The simple truth Boris Johnson is running away from: his Brexit deal will impoverish the country, for nothing in re… https://t.co/e8VpSbJsb2\n",
      "It's happening.\n",
      "\n",
      "Elections are decided by those who turn up.\n",
      "\n",
      "Register to vote #GE2019 https://t.co/3HwFKIXPgr\n",
      "This general election will be the most important of our lives. It will determine what kind of country we are in a g… https://t.co/flvx6b96HS\n",
      "------------------------- fetched:  12  tweets.. -------------------------\n"
     ]
    },
    {
     "name": "stdout",
     "output_type": "stream",
     "text": [
      "@DPJHodges tweeted: \n",
      "@GreenLi66832774 Never.\n",
      "Lot of moderate Tory MPs leaving the party. Classic Dom.\n",
      "A possible Winter Bed Crisis is actually one of the reasons Tory strategists wanted an early election, and Labour w… https://t.co/quobKeERV9\n",
      "*NARRATIVE ALERT*   We officially have the first narrative of the 2019 election. Boris has made a terrible blunder.… https://t.co/y8H6Mi4wne\n",
      "Lots of people say PMQs doesn’t matter. Boris had better hope they’re right because that was Corbyn’s best ever performance.\n",
      "Number of Tory strategists nervous about No.10 strategy of taking fight to Labour on their NHS turf. This PMQs exch… https://t.co/ScwvFN8Uib\n",
      "Corbyn actually holding his own here.\n",
      "One thing we know from this PMQs. Jeremy Corbyn doesn’t want a Brexit election.\n",
      "Jeremy Corbyn enjoying himself at PMQs. De-mob happy?\n",
      "Boris can win this election. But if he does, he's going to have to have a long hard think about what sort of party… https://t.co/JoQWAD9g7E\n",
      "This is the first election campaign I can remember where a majority of both Labour and Tory MPs are convinced they're going to lose.\n",
      "I was critical of Owen Smith's leadership campaign. But at least he had the guts to stand up and tackle Corbyn head… https://t.co/rZLH3v2LSp\n",
      "That should be Uncle John McDonnell. We're going to be getting a lot of tie and jumper combos over the next 6 weeks.\n",
      "One thing already clear. Labour are going to try and make John McDonnell - not Jeremy Corbyn - the face of their campaign.\n",
      "“I’m taking an awful risk Vader. This had better work”.\n",
      "------------------------- fetched:  15  tweets.. -------------------------\n",
      "@LouiseMensch tweeted: \n",
      "The most likely outcome at this moment, if @SenateGOP do NOT remove @realDonaldTrump, is... wait for it...\n",
      "\n",
      "Preside… https://t.co/Nyk84s7wWs\n",
      "@jordanalipscomb @CrowdStrike @senatemajldr @SenateGOP You are indeed but unless they remove him @SenateGOP in wipeout territory\n",
      "“The 2016 election and @CrowdStrike”\n",
      "\n",
      "Look @senatemajldr you are going to lose not only the Senate but also your ow… https://t.co/sEpbt1VTN1\n",
      "@fiondavision @RaheemKassam @tenaciousN @thespybrief @SebGorka @heatstreet I hear Regina Coeli prison is not as nice as it sounds\n",
      "@fiondavision @RaheemKassam @tenaciousN @thespybrief @SebGorka @heatstreet Oh really Raheem? Tenor or baritone? Per… https://t.co/ps80TfXMBj\n",
      "@JolyonMaugham @AdamWagner1 Are you suggesting Corbyn’s antisemitism which you appear to admit is outweighed by pol… https://t.co/RZsWGqW8Gt\n",
      "@KealanBurke https://t.co/IEu7Lrv5K7\n",
      "@dang65 @MichaelRosenYes https://t.co/kEmVrcw9ca\n",
      "@blogger4girl @RaheemKassam @tenaciousN @thespybrief @SebGorka @heatstreet Lot of that about\n",
      "@RaheemKassam @RodneyCaston @tenaciousN @thespybrief @SebGorka @heatstreet What’s this now? Think again. Or don’t.… https://t.co/5OsqjKdfut\n",
      "@RaheemKassam @tenaciousN @thespybrief @SebGorka @heatstreet Nor has @FoxNews, but I tag them too\n",
      "@RaheemKassam @tenaciousN @thespybrief @SebGorka @heatstreet My last blog was in July because I have other work to… https://t.co/M2cYVvU8VT\n",
      "@thehamberdler1 @RaheemKassam @tenaciousN @thespybrief @SebGorka @heatstreet He’s clearing his throat now, opening… https://t.co/FsSKZox1bk\n",
      "@RaheemKassam @tenaciousN @thespybrief @SebGorka @heatstreet I am very excited to hear the first installment of Whi… https://t.co/aOKOGmcuYU\n",
      "@RaheemKassam @tenaciousN @thespybrief @SebGorka @heatstreet I said it was being considered Raheem and it was. But… https://t.co/gQXuUG0Cbu\n",
      "@joemamma_1 @Agenthades1 Bada-bing is all I can hear now lol\n",
      "@RaheemKassam @tenaciousN @thespybrief @SebGorka @heatstreet One does not have “sources” on a country Raheem. Countries are not secrets\n",
      "@KurtSchlichter Yes Col. it sure has. We are relentless and we always get our man\n",
      "@RaheemKassam @tenaciousN @thespybrief @SebGorka Raheem “I once went to Sweden to meet a girl in a nightclub” (bein… https://t.co/1VJFgLvLU4\n",
      "@FinchFlyer “Hired by the family” = discount even if a real expert\n",
      "@realDonaldTrump @papago1996 @EddieRispone Hey traitor get ready for jail \n",
      "\n",
      "We know what you said to @RTerdogan \n",
      "\n",
      "It’s coming\n",
      "@tenaciousN @thespybrief Once upon a time @SebGorka was asked by a fan whom he recommended as an expert on Sweden a… https://t.co/SmISK8bcPm\n",
      "This. “Forensic Expert From Fox News Hired by Epstein’s Buddies” does not rock my world https://t.co/ettvQzABFo\n",
      "@page88 @willowrose51 @SethAbramson Not your fault. Thinking well of people is a positive not a negative.\n",
      "\n",
      "I sat on… https://t.co/beiI18HOz8\n",
      "@page88 @willowrose51 @SethAbramson Also, I v. much appreciate that you said that as (as I suppose is showing) it r… https://t.co/UjnAWSumY2\n",
      "@page88 @willowrose51 @SethAbramson He said later that I had one scoop while not acknowledging he smeared my report… https://t.co/vxrx5srIna\n",
      "@DFisman @chrishickman81 @SethAbramson thank you x cc @page88\n",
      "This is interesting and suggests @MichaelCohen212's asserted complete cooperation has not, in fact, been that compl… https://t.co/rNkBP7Mvuh\n",
      "@DFisman thank you David \n",
      "\n",
      "I've archived @chrishickman81's false comments, which echo lies @SethAbramson has been t… https://t.co/ObWhWu38l6\n",
      "@TomJChicago @realDonaldTrump Indeed, I keep telling my worrying friends Barr does not have all the power\n",
      "@chrishickman81 @page88 @SethAbramson @Snowden @washingtonpost @nytimes @TheRickWilson @FBI this is journalism \n",
      "act… https://t.co/vVhD9ke2Wa\n",
      "@chrishickman81 @page88 @SethAbramson @Snowden @washingtonpost @nytimes @TheRickWilson @FBI here's your receipt, wh… https://t.co/E1ZaV1N4Vi\n",
      "@chrishickman81 @page88 @SethAbramson @Snowden @washingtonpost @nytimes @TheRickWilson Except I never said that, ei… https://t.co/nbL7ee0yye\n",
      "@chrishickman81 @page88 @SethAbramson @Snowden @washingtonpost @nytimes @TheRickWilson @Page88 never been wrong?\n",
      "\n",
      "R… https://t.co/te6RHkZyGy\n",
      "@chrishickman81 @page88 @SethAbramson @Snowden @washingtonpost @nytimes @TheRickWilson and here's another, since he… https://t.co/ZxsVEA2fAX\n",
      "@chrishickman81 @page88 @SethAbramson @Snowden @washingtonpost @nytimes @TheRickWilson Here is the twitter search… https://t.co/fMdFEncVAU\n",
      "@chrishickman81 @page88 @SethAbramson @Snowden @washingtonpost @nytimes @TheRickWilson Both of those contentions ar… https://t.co/bzLXmV3YC9\n",
      "@page88 @SethAbramson @Snowden @washingtonpost @nytimes @TheRickWilson he has maliciously said, over and over again… https://t.co/8y1NXLhWUs\n",
      "@page88 @SethAbramson @Snowden @washingtonpost @nytimes @TheRickWilson So, since you asked me not to @ you without… https://t.co/wSejnl87me\n",
      "@page88 @SethAbramson @Snowden @washingtonpost @nytimes @TheRickWilson Virginia, put your \"very kind\" @SethAbramson… https://t.co/MvBYT5jKeF\n",
      "@page88 @SethAbramson @Snowden @washingtonpost @nytimes Examples of his false reporting are everywhere.… https://t.co/EmqPloWL3a\n",
      "@willowrose51 @Page88 I'd love to know what's \"extraordinarily kind\" about any of this. https://t.co/ZiOxx9KkH7\n",
      "@page88 @SethAbramson @Snowden It's unfortunate that you missed that when both @WashingtonPost and @Nytimes correct… https://t.co/rlUrsXrnMq\n",
      "@page88 @SethAbramson no, he hasn't. he falsely accused me of making up my sources in one of his 1000 tweet threads… https://t.co/NUKk0KbOZ8\n",
      "FISA on Roger Stone would mean @realDonaldTrump’s calls to him were lawfully recorded as incidental collection. \n",
      "St… https://t.co/wNbgxjqyDA\n",
      "Here’s the now deleted tweet my closeup was taken from: (emoji mine) https://t.co/vYwdy1mGt9\n",
      "@LukeJSDavis @GuidoFawkes @AmberRuddHR Exactly. Amber doesn’t lie, Paul. And I’m pro-Brexit.\n",
      "@tomhfh @volvogirl974 @AmberRuddHR does not lie. I believe her. And you know I am Brexit to the bone.\n",
      "@KlasfeldReports Quite\n",
      "Throwback Tuesday #RogerStone :) \n",
      "\n",
      "(May 10 2017) https://t.co/NYEDtjqWFn\n",
      "@Billbrowder Oh, snap!\n",
      "\n",
      "(Was I first?) :) https://t.co/qX1YjRzyhh\n",
      "@MargaretHardwi5 She is the spitting image of you Margaret!\n",
      "@thespybrief No relation I presume\n",
      "@TheNewTiresias @Eviljohna @byrdinator @TYT @AnaKasparian @cenkuygur Sure Jan\n",
      "@glennkirschner2 @debmorello Blanket pardons aren’t legal, per almost every lawyer I read here\n",
      "@adogslifeTO @carcar200002 @kharyp @KatieHill4CA @alfranken Yes https://t.co/HmthwFJdzg\n",
      "@lilly64 @kharyp Even better to not have handed her victory by resigning. Stay in place and sue, it’s not either/or\n",
      "@AudreyEwell @kharyp @KatieHill4CA @alfranken The photographic evidence was of Leanne Tweeden hanging out with the… https://t.co/J3fHTJicrX\n",
      "@MargaretHardwi5 @kharyp @KatieHill4CA @alfranken @PamKeithFL There’s prohibition against sleeping with staffers bu… https://t.co/8LQCLqCTY3\n",
      "@jlewis237 @MargaretHardwi5 @kharyp @KatieHill4CA @alfranken @PamKeithFL I don’t give a goddamn who she is sleeping… https://t.co/C172eNlwfP\n",
      "@MargaretHardwi5 @kharyp @KatieHill4CA @alfranken @PamKeithFL Agree. I feel very sorry for her but she did not HAVE… https://t.co/7aRrLDOsfZ\n",
      "@kharyp @KatieHill4CA @alfranken cc @PamKeithFL \n",
      "\n",
      " people saying “Katie Hill had to resign but....” (worse Republic… https://t.co/9lAeJ2rKtq\n",
      "@kharyp Going to call it as I see it; @KatieHill4CA should not have resigned. @alfranken should not have resigned.… https://t.co/5o0Lbgsr02\n",
      "@SuzanneJorgens1 @911CORLEBRA777 @HiMaui @ericgarland @thespybrief @JamesFourM @File411 No they won’t. Don’t think… https://t.co/6jMG3jF6HB\n",
      "@mikes_booh @PaulHolzapfel @911CORLEBRA777 @thespybrief @TheRickWilson I’m down with Papa G @GeorgePapa19 can’t wait for his stump speech\n",
      "@PoliticusSarah @MelissaJPeltier @YegRiverEdm @Teri_Kanefield @AynRandPaulRyan @For_Cripes_Sake @thekjohnston… https://t.co/l286yIlm50\n",
      "@MarkEglinton @SusanTraherne5 @20committee But John Schindler said this first. I just hoped he’d go to jail. John knew he would :)\n",
      "@joncoopertweets @NSAGov https://t.co/kzq4pA7fZ4\n",
      "\n",
      "#TrumpRussia\n",
      "@NightlyPolitics @amorganfloyd13 @carterwpage Dr. Page sir, you have competition :)\n",
      "@joncoopertweets https://t.co/kzq4pA7fZ4\n",
      "Love the great @joncoopertweets but we all heard it *first* from Prof. John Schindler, former @NSAGov, on 15 Februa… https://t.co/0nyXXr0rPn\n",
      "@20committee where is it? I can no longer see it\n",
      "@joncoopertweets actually no, let's be honest @20committee owns this\n",
      "@baddogs4343 @JohnnyMackay5 @911CORLEBRA777 @thespybrief @ericgarland @TrueFactsStated @RubyWorms I love @RubyWorms https://t.co/cONlwBLprD\n",
      "@xtrixcyclex @911CORLEBRA777 @matange2 @thespybrief well, Beto, Tulsi's pal? surprising\n",
      "@MollyJongFast gonna make myself unpopular and observe that Catherine Herridge, their national security reporter, w… https://t.co/SIFmIfcdDW\n",
      "@stacyfaddoul @karolcummins @brengoode tweet @AmyMcGrathKY at every opportunity\n",
      "\n",
      "the single deciding factor is @senatemajldr losing his seat\n",
      "@karmel80 @shiremoorpotter @michaeldweiss Parallel development folks \n",
      "\n",
      "*it is possible*\n",
      "\n",
      "I have had a brilliant twt… https://t.co/84CtRktyK1\n",
      "@Duncan_Bell @AishaMoodMills @FelicityHannah @bruko TY :)\n",
      "@thespybrief well, good luck with that, uh.... \"great power\" https://t.co/tg8wmjVOkm\n",
      "@911CORLEBRA777 @thespybrief If they can get in,\n",
      "\n",
      "we will get in.\n",
      "@Scorpy11 @BorisJohnson @Conservatives @NSoames @margot_james_mp @GregClarkMP @edvaizey @RoryStewartUK Now would be… https://t.co/HOcR5clwsW\n",
      "@911CORLEBRA777 @thespybrief shsssshhhhhh don't tell him\n",
      "Delighted to see @BorisJohnson has restored the whip to excellent @Conservatives  MPs including @NSoames… https://t.co/90ZEQni6Bv\n",
      "------------------------- fetched:  84  tweets.. -------------------------\n"
     ]
    },
    {
     "name": "stdout",
     "output_type": "stream",
     "text": [
      "@montie tweeted: \n",
      "Seconded. Years ago I worked closely with @DLidington on what evolved into @csjthinktank. He was patient, loyal and… https://t.co/ajn72MiU1z\n",
      "We disagree on #Brexit but @AmberRuddHR is one of the great champions of one nation conservatism and I hope she’ll… https://t.co/B5ox8dsoHe\n",
      "⬇️🎯 https://t.co/V0oXxlhyOR\n",
      "------------------------- fetched:  3  tweets.. -------------------------\n",
      "@britainelects tweeted: \n",
      "North East Somerset Westminster voting intention:\n",
      "\n",
      "CON: 44% (-10)\n",
      "LDEM: 28% (+20)\n",
      "LAB: 14% (-20)\n",
      "BREX: 7% (+7)\n",
      "GRN:… https://t.co/7yZf9NMlOr\n",
      "Leamington Lillington (Warwick) result:\n",
      "\n",
      "LDEM: 55.3% (+7.1)\n",
      "CON: 28.3% (+11.1)\n",
      "LAB: 16.4% (-5.5)\n",
      "\n",
      "Liberal Democrat… https://t.co/KeorueH1o0\n",
      "House of Commons vote on the Early Parliamentary General Election Bill at Third Reading:\n",
      "\n",
      "AYES: 438\n",
      "NOES: 20\n",
      "\n",
      "Gener… https://t.co/dsPYuz5dhN\n",
      "Media! Our poll tracker is available for use. Pop us a DM for the code and/or data, or email:\n",
      "\n",
      "walker[at]https://t.co/QzghnN5ONi\n",
      "[Admin update]\n",
      "\n",
      "Our website will be receiving a much needed upgrade over the next few days in light of the upcoming… https://t.co/ksQvHl8lwU\n",
      "------------------------- fetched:  5  tweets.. -------------------------\n",
      "@ShippersUnbound tweeted: \n",
      "My only election prediction: if anyone wins this election, it will at one point in the campaign look like the other… https://t.co/ggZB1FUnPl\n",
      "Nice tribute to Ken Clarke from Bercow. Titan of my time following politics\n",
      "Bercow has three legacies: \n",
      "1) Empowering the backbenches \n",
      "2) Constitutional innovations \n",
      "3) Overt commentary in th… https://t.co/6Nh3k1TLrJ\n",
      "Johnson giving a masterclass in backhanded compliments for Bercow’s last PMQs\n",
      "@mrjamesob 🤣\n",
      "------------------------- fetched:  5  tweets.. -------------------------\n",
      "@JamieRoss7 tweeted: \n",
      "------------------------- fetched:  0  tweets.. -------------------------\n",
      "@DouglasCarswell tweeted: \n",
      "Tim always finds kind things to say about people.  Admirable https://t.co/fiXcLIpMHP\n",
      "Interesting https://t.co/EjKVwAQ8jg\n",
      "I imagine the housing market will be on a knife edge for the next 6 weeks.  If Boris wins, stamp duty will be halve… https://t.co/kpeeGaK2n8\n",
      "I think this could be very foolish indeed https://t.co/go7oo6aicQ\n",
      "------------------------- fetched:  4  tweets.. -------------------------\n",
      "@SophyRidgeSky tweeted: \n",
      "Wow. Another MP announces they won’t be standing - cabinet minister @NickyMorgan01 https://t.co/YVx7wdrMTh\n",
      "------------------------- fetched:  1  tweets.. -------------------------\n",
      "@sunny_hundal tweeted: \n",
      "@AbiWilks @rmirgvraj @imbadatlife Warren will come up with a plan 😉\n",
      "@AbiWilks @rmirgvraj @imbadatlife Not convinced by that. There will be plenty of 'moderate' Dems (currently in Bide… https://t.co/mNT2m2bnJE\n",
      "@rmirgvraj @AbiWilks @imbadatlife yes. That answer still won't make questions and attacks from Republicans go away.\n",
      "@AbiWilks @imbadatlife He literally says he won't explain how he plans to pay for it. I don't think it'll help him… https://t.co/ozFF43SdIk\n",
      "@AbiWilks I'm rooting for Warren 😍\n",
      "@AbiWilks @imbadatlife Not sure increased scrutiny has been bad for Warren - she's getting attacked on M4A, where S… https://t.co/Y2J9YYAnA8\n",
      "@AbiWilks Yeah that was NH - but he's a little behind in Iowa (which he won last time) and way behind in South Caro… https://t.co/czXVR3neiW\n",
      "@AbiWilks Here's national Dem polling. Sanders is largely third https://t.co/mpk7QoI56h\n",
      "@PoliSciJack @AbiWilks Erm, the last Morning Consult had 15K Likely Voters sample, and Biden was 12pts ahead https://t.co/mpk7QoI56h\n",
      "@AbiWilks Leading? No. I write about US politics daily now and he's behind both Biden and Warren.\n",
      "@AbiWilks Corbyn maybe, but I wouldn't call Sanders a 'very realistic possibility'. I'd say less than 10% chance.\n",
      "This is long, long overdue.\n",
      "\n",
      "After the deadly attack on a synagogue and killing of a politician, the German governm… https://t.co/FqgR0iQRKN\n",
      "@waldron76 @BarackObama You may want to check out the Bernie fans hating on Warren and reevaluate that sentiment.\n",
      "This is a good look at the state of the Impeachment Inquiry\n",
      "\n",
      "\"At this point, it looks as if President DONALD TRUMP… https://t.co/LPix3OIJMk\n",
      "@ianrobo1 @BarackObama totally missed it I think\n",
      "@Baddiel @BarackObama Yes you're absolutely right David. Social media doesn't help :(\n",
      "@ImJoseee @BarackObama LOL. Well done for the stupidest comment today - and its barely 9am\n",
      "Watch this whole segment. @BarackObama is absolutely right. \n",
      "\n",
      "This desire for purity is always the left's biggest w… https://t.co/pRhCdF4Gbi\n",
      "YES! https://t.co/38w9ijZrZO\n",
      "Yesterday, Murray Energy — the largest private coal producer in the United States — filed for bankruptcy.\n",
      "\n",
      "It was t… https://t.co/jUOe4VuSgA\n",
      "Finally British MPs agree on something. On a terrible idea 🤦🏽‍♂️ https://t.co/9TSup6LG0b\n",
      "@DuncanWeldon Nice one!\n",
      "------------------------- fetched:  22  tweets.. -------------------------\n",
      "@MrHarryCole tweeted: \n",
      "Future PM in there? https://t.co/eHxxIiMvbN\n",
      "Problem is the 40 brextity seats Bojo needs are probably the ones they will fight ... https://t.co/Rq0S9s1Mts\n",
      "Suspect that will go on the posters. https://t.co/HMSmkkvNVG\n",
      "🍿 https://t.co/aH8L1RMmTh\n",
      "@jimmy_wales You’re comparing chalk and cheese.\n",
      "Remoaners like B4B have blithered on about elections and referendums “stolen” by dishonest means and dodgy online s… https://t.co/SAuDSpIk8U\n",
      "And another https://t.co/RURID38Uul\n",
      "And another https://t.co/vjrycWhg59\n",
      "This is ridiculous and typically dishonest of the campaign. LibDems have no chance of winning these seats yet… https://t.co/Nw44FXJlkg\n",
      "@chrisshipitv Retro\n",
      "@KateEMcCann @lewis_goodall @SkyNewsPolitics @BethRigby @SamCoatesSky @joncraig @tamcohen @RaynerSkyNews… https://t.co/FDqEGhlo43\n",
      "------------------------- fetched:  11  tweets.. -------------------------\n",
      "@MichaelLCrick tweeted: \n",
      "@paulbristow79 Hang on.  They came a close second in the by-election.  Shouldn’t you stand aside in return from the… https://t.co/rcHg97vOJ9\n",
      "@prospect_clark @prospect_uk I very much doubt If Boris Johnson will lose in Uxbridge.  Party leaders rarely lose t… https://t.co/NrGT2kdvFV\n",
      "@AmIRightSir Also chair of both Brentford &amp; Notts County, and the Football League.  Not sure how he had much time for politics.\n",
      "Not long ago during elections, Philip May would regularly go into Conservative HQ in the evenings to work on the pa… https://t.co/tlV6goPMwe\n",
      "For example, local parties who have lost MPs such as Bury South (Ivan Lewis) &amp; Beaconsfield (Dominic Grieve) have b… https://t.co/BZ5PWCYt6z\n",
      "“There’s major, major, major, major unhappiness at the centralisation of candidate selection,” says John Stratford… https://t.co/T86DoDdI9Q\n",
      "@joehackackett Gamma minus.  I’ve never ever been to Corbyn’s home in my life.  Dearie me, you must try harder.\n",
      "Walsall in 2017, for instance, saw a 6.1% swing to the Tories in Walsall North, where Conservative Eddie Hughes top… https://t.co/TdqdBaeO9s\n",
      "In the ‘50s &amp; ‘60s when swing was pretty uniform nationally Butler on the BBC election programme could forecast the… https://t.co/WBXUF6L8vD\n",
      "My first Michael Crick Report for Mail Plus - on the outgoing Commons Speaker John Bercow - Saint or Sinner?  https://t.co/AL8eayCkDy\n",
      "Sir David Butler, 95, the father of psephology, commenting to me just now on his 21st contest since 1945: “The perc… https://t.co/cNJRColTEq\n",
      "@MrMoz75 That’s not “purdah”.  And the time balance rules apply only to mainstream UK broadcasters, not the press o… https://t.co/6XeWN4wXcx\n",
      "Tell us which one.  Otherwise you’re besmirching all of them as potential suspects https://t.co/JDt7f0oR3S\n",
      "@MrMoz75 What do you mean by “purdah”?  I’m not sure you know what it means\n",
      "@Brigid_Fowler @jillongovt The budget could be delayed, and if the Conservatives win they could scrap the Queen’s S… https://t.co/HikCmzjHXU\n",
      "Oh dear, this Labour video quotes one of my old reports.  Still, what I said was true. https://t.co/ehEXvYfgtg\n",
      "@MrMoz75 @CampaignLabWiki @margarethodge @MichaelCrick Purdah?  What purdah?  Partisan?  I barely know what my own… https://t.co/Bfj6EqprfR\n",
      "@PatrickSwindon @AnneMcGuire97 @gordonguthrie Maybe, but here in Battersea in 2017 large parts of the seat saw no s… https://t.co/uQVQks2DVd\n",
      "@PatrickSwindon @AnneMcGuire97 @gordonguthrie Actually, you have a point about landlines and I’ve modified my views… https://t.co/e5rHGHQxEO\n",
      "Advice like that means even more people than in 2017 will start voting a couple of weeks before polling day, so the… https://t.co/gYYcZRFpdY\n",
      "@SebastianEPayne @heidiallen75 She’ll be a loss to politics, but rumour has it Allen only became an MP by accident… https://t.co/ayMaE5doD5\n",
      "@adamboultonSKY @RichardBurgon @BorisJohnson Well if he dies, he wont\n",
      "@verisilimitude @alstewitn Not in modern times.\n",
      "------------------------- fetched:  23  tweets.. -------------------------\n"
     ]
    },
    {
     "name": "stdout",
     "output_type": "stream",
     "text": [
      "@Kevin_Maguire tweeted: \n",
      "I like Ken Clarke personally but fawning tributes airbrush his record incl belittling ambulance crews 1989-90(Healt… https://t.co/1zX36sLEes\n",
      "Tory MPs laughing at Corbyn’s bright green Grenfell tie are an out of touch elite inviting a kick in the ballots. D… https://t.co/4RQMGNHh5Q\n",
      "Johnson's bad Brexit costing the UK economy £70bn is why the Treasury refused to assess the impact. It’s lousy https://t.co/7q2sPa8A7k\n",
      "Every one of these will worry Tory strategists: “10 ways Labour can win this year's General Election.” https://t.co/qyc7KDqrm8\n",
      "Johnson loses the election fif he fails to win a Tory majority while Corbyn could lose seats and still win if Labou… https://t.co/WVww00A4IA\n",
      "Graceful acknowledgement she was wrong from an inspiring campaigner for decency and respect. https://t.co/9cMHhPA3L2\n",
      "Smart, talented and decent. Labour can’t afford to lose MPs like @OwenSmith_MP https://t.co/Q91vv8DvDg\n",
      "Doesn't Priti Patel pose as strong on law and order? https://t.co/5Unwqfcggb\n",
      "Big battle ahead which might settle nothing, including Brexit, with a UK General Election on 12 December\n",
      "------------------------- fetched:  9  tweets.. -------------------------\n",
      "@JohnRentoul tweeted: \n",
      "Good grief. I never thought I would feel sorry for this lot https://t.co/4enwlBXxUw\n",
      "250 entries in the sweepstake now. Median guess for seat nos:\n",
      "Con 320 +2 since 2017\n",
      "Lab 325 -27\n",
      "Enter here… https://t.co/5WbVcoXiwV\n",
      "New category of Labour Party membership: the non-Labour-voting member https://t.co/lAm2z5DktE\n",
      "Superb by @DAaronovitch on the myths of prohibition https://t.co/Wuodd4bRSE https://t.co/V3ACHH4OLz\n",
      "He’s not trying, is he? https://t.co/aLc49Rqb45\n",
      "@stair71 It's much worse than I remember\n",
      "@TaylorAJP Yes, but as I don't expect you are really interested I won't go to the trouble of looking them out for you\n",
      "@AmIRightSir @220_d_92_20 @allanholloway Related to anyone famous, the more unlikely the better\n",
      "Looking forward to updating this #Top10 https://t.co/loLN17EtJA\n",
      "Also looking for more authenticated examples of these @AmIRightSir @220_d_92_20 @allanholloway https://t.co/ShCVdoSZnN\n",
      "I wasn't the only one who got that wrong https://t.co/IgxGq94RVj\n",
      "@alstewitn \"Electorate is more volatile than ever before\"\n",
      "\"More unpredictable than ever\"\n",
      "\"Leave-voting northern Lab… https://t.co/BwY3Rc1B64\n",
      "And any more *authenticated* nominations for this one? https://t.co/83GQSaYxXm\n",
      "Any more nominations? https://t.co/ekI97AmFH9\n",
      "@irushforth Well done. Thank you. The sort of thing that takes ages to track down!\n",
      "And I stand by this on how housing is more important than student debt https://t.co/46VJnYUndy\n",
      "Immediately after the 2017 election I said Tories will need policies for young people – student debt, housing – next time\n",
      "What will happen to this graph this time? https://t.co/KkWJMui30a\n",
      "Median guesses in the sweepstake so far:\n",
      "Con 323\n",
      "Lab 239\n",
      "Enter your guess here\n",
      "https://t.co/pyjGW7k6Yh\n",
      "#PMQs thread https://t.co/8jR8qQTvXo\n",
      "Was it 437 or 438 MPs that voted for the election? https://t.co/WU9WIVjcpM https://t.co/g9XbNNNwot\n",
      "If you're not registered to vote, you have until 26 Nov https://t.co/sk8tE6qvY7\n",
      "@LizzyBuchan Two campaigners of different styles: our review of the preview of #election2019 at #PMQs… https://t.co/9VHMccO8dw\n",
      "Video: About to go live with @LizzyBuchan to discuss pre-election #PMQs https://t.co/piuvvjPuMP\n",
      "Jo Swinson raises the TV debates subject. She wants a 3-way debate. PM ignores it #PMQs\n",
      "Applause (including from Theresa May) for Ken Clarke as Speaker pays tribute to his 49 years in the Commons, now co… https://t.co/eEGwvZAfXw\n",
      "Ken Clarke asks \"if by chance he wins this unpredictable election\", the PM will negotiate an EU trade deal keeping… https://t.co/dhfKIJS2ot\n",
      "PM is struggling to convince his own MPs – as well as voters – this election was necessary to deliver Brexit https://t.co/D93P0oybcG\n",
      "The way PM's mind works: 1. In answer to John Lamont he used word \"lamentable\"; 2. Re fireworks scaring animals he… https://t.co/LuNBBWB4qj\n",
      "And the draft stump speech he rehearsed in his final answer was a bit ropey\n",
      "Johnson still hasn't got the hang of #PMQs: read out list of NHS stats just handed to him then switched to prepared spiel re leadership\n",
      "Until he got to his social media peroration\n",
      "Corbyn doing well at sincere indignation after each of PM’s glib answers\n",
      "NHS exchanges at #PMQs: this election is going to be festival of democratic debate about how best to deliver public services\n",
      "“You have done more than Stephen Hawking to stretch time”\n",
      "Entertaining and barbed tribute from PM to John Bercow on his last #PMQs\n",
      "#PMQs coming up at noon: @LizzyBuchan &amp; I standing by to comment afterwards on Facebook video… https://t.co/CfGwBdXMq4\n",
      "@FireGrd I am often wrong, but this is other people\n",
      "@mrianleslie Con majority 70 https://t.co/SeY6TKTqR3\n",
      "@DrAlanWager @jillongovt Many thanks: I have my doubts about Rory Stewart, running for mayor of Remain City, but it was on a knife edge\n",
      "@richardmorrisuk It's here! https://t.co/pyjGW7k6Yh\n",
      "Enter the sweepstake here. Median guesses so far:\n",
      "Con 325 +7 from 2017\n",
      "Lab 235 -27\n",
      "https://t.co/pyjGW7k6Yh https://t.co/QPX4W12djx\n",
      "I knew someone had got there first, and it was @dproffit https://t.co/N9hmgfZQx7\n",
      "@jillongovt @patrickkmaguire @StephenLloydEBN Smiley face\n",
      "@EastbourneEcho @StephenLloydEBN I don't understand why the 2017 election didn't \"wipe the slate clean\" but he was… https://t.co/mqgcsXAaSy\n",
      "What if PM had written two articles, for and against an early election? https://t.co/g0YIdQIIW3\n",
      "@jillongovt @DrAlanWager I had Harrington, Lloyd, Cruddas and Jarvis, but doubtful about more: Stewart is running f… https://t.co/McYg0qDpY0\n",
      "@jillongovt @DrAlanWager That's what a lot of people say, but which ones? Once you start to go through them, you get to about 4\n",
      "Sweepstake doing a roaring trade already. Average (mean): \n",
      "Con 325 +7 from 2017, effective majority of 7* \n",
      "Lab 239… https://t.co/kWO7OMST3u\n",
      "Betting markets put chances of Tory majority at 50-50 https://t.co/aTswXxJjn3 https://t.co/7CJyizIMxK\n",
      "Got better ratings in my parallel universe https://t.co/3gvMs4dY1N\n",
      "Well this was prescient at least https://t.co/7ROPGt18GI\n",
      "As @woodstockjag points out, 2/3 of MPs (434) did vote – for a specified date https://t.co/oTD9hz98GV\n",
      "Speaker replies that the House’s business is conducted on the basis of what people say in public\n",
      "She adds that, in private, a majority of MPs want a “people’s vote”\n",
      "Anna Soubry on a bogus point of order says that in private most backbench MPs did not want an election https://t.co/AD7eSY7AHd\n",
      "Humiliation for the opponents of an election: 3rd reading of early election bill passes by 438 votes to 20\n",
      "Boris Johnson has got the election he wanted – thanks to Jo Swinson https://t.co/IJyeFCO4P6\n",
      "Loading next page...\n",
      "That is basically it for the Commons: House of Lords tomorrow and parliament dissolved just after midnight Weds next week\n",
      "This is a protest vote against an election: the tellers are Ben Lake, Plaid Cymru, and Chris Leslie, Ind Group for Change\n",
      "Labour front bench not voting against this: that would allow Tories to put “Labour voted against an election” on their leaflets\n",
      "Completely unnecessary division on 3rd reading after a certain amount of procedural confusion https://t.co/qrzlwFC402\n",
      "------------------------- fetched:  62  tweets.. -------------------------\n",
      "@stellacreasy tweeted: \n",
      "Good luck @elliereeves - I know its hard enough to plan an election campaign without also having to plan around hav… https://t.co/gg681zEQOC\n",
      "*bangs head on table repeatedly as point flies past the head of tweeter*….. #tooearlyforthis https://t.co/uI8ckfMuZY\n",
      "A long, frustrating day in which despite best efforts executive got their way-boris johnson says public must have t… https://t.co/xexZxsVHGj\n",
      "------------------------- fetched:  3  tweets.. -------------------------\n",
      "@GuidoFawkes tweeted: \n",
      "Bercow Has Lost his Bounce https://t.co/wOSCcg4jUD\n",
      "Nicky Morgan is standing down as MP for Loughborough, taking the number on our list standing down to 54 - so far \n",
      "https://t.co/JU3uYqey4M\n",
      "The Very Civil Service https://t.co/WLllhFbyw4\n",
      "Subscribe to the Guidogram to get everything you need to know, every night, sent to your inbox:… https://t.co/KxaUdQAj67\n",
      "Brexit Party Worried About Leaks https://t.co/rKBb2xcO4G\n",
      "Amber Rudd Not Standing https://t.co/KDt27qaY69\n",
      "Momentum Have Not Registered With Electoral Commission https://t.co/4iAZXwYVcb\n",
      "Labour's First Election Spin Cock Up https://t.co/eaG3vgmh0T\n",
      "Tories Start 16% Ahead, Curtice Gives Stark Warning https://t.co/EqznIZUArY\n",
      "Ann Coffey becomes the first 'The Independent Group for Change' MP to announce she is standing down.\n",
      "https://t.co/JU3uYqey4M\n",
      "Happy birthday @BrunoBrussels\n",
      "I have no memory of ever speaking to Ken Clarke. #Kenecdotes\n",
      "Truss Wakes Up and Smells the Coffee https://t.co/BFJGvFdWbM https://t.co/UCm1TWAVoO\n",
      "Be afraid #GeneralElection2019 https://t.co/yibXrXRHyL\n",
      "Earlier reports wrong, David Simpson staying put. https://t.co/JU3uYqey4M https://t.co/9oxvmMLWPi\n",
      "Lib Dems Facebook Spend More than all Parties Combined https://t.co/L9TnMaJNrV https://t.co/cllnm23lYT\n",
      "Subscribe to the Guidogram everything you need to know, every night sent to your inbox: \n",
      "\n",
      "https://t.co/NU15dU2cU2 https://t.co/Nxq0W8i9Qs\n",
      "As we keep our list updated, Guido looked in the history books. \n",
      "Before the 2010 election, a record 149 MPs stood d… https://t.co/7DHsuicqg7\n",
      "Confirmation from Mims Davies she is quitting as an MP and not carpetbagging over to another constituency, so added… https://t.co/wLHRKCI3CF\n",
      "Wonk Watch: October Edition https://t.co/E0IskVgnQp https://t.co/Pw3bxNjnoD\n",
      "Helen Jones (Warrington North) has announced she won't be standing again. She becomes the 56th MP to voluntarily bo… https://t.co/LEItwEx8xZ\n",
      "@iainoverton We're not impartial.\n",
      "@Simon4NDorset @DPJHodges 8 foot tall Corbyn?\n",
      "Peter Heaton-Jones, North Devon MP, standing down. 55 and counting...\n",
      "\n",
      "https://t.co/JU3uYqey4M https://t.co/IEz0UKfsCC\n",
      "\"Vote Labour get 2 more Referendums\" https://t.co/h4kZvAsWLl\n",
      "Greens, LibDems and Plaid negotiating electoral pact. Greens going to get a cash boost again?\n",
      "MPs Standing Down at the Next Election - Alan Duncan joins the list.\n",
      "\n",
      "https://t.co/JU3uYqey4M https://t.co/MRyJrM66yK\n",
      "@darrengrimes_ Well we are helping with the monitoring.\n",
      "Electoral Commission say: https://t.co/IAq6vFmwJ5\n",
      "Electoral Commission “Monitoring Compliance” of Non-Party Camapigners https://t.co/N6criIBaO8 https://t.co/N0wSMHi22X\n",
      "Tories Trying to Avoid Brexit Countdown Embarrassment https://t.co/2SEVtIscpj https://t.co/1zovhNwLHz\n",
      "The average age of all 4 is 67. Less about ideology more about gerontology. https://t.co/HVQHfO3Dif\n",
      "Our first Northern Irish MP to stand down: David Simpson, DUP MP for Upper Bann https://t.co/JU3uYqey4M https://t.co/iScH69n2MK\n",
      "Jared Clings On for Cash Pay-Out https://t.co/SRT8AG26tC https://t.co/giBvSecKw6\n",
      "Guido has removed Mims Davies from this list for the time being.\n",
      "\n",
      "She will not be standing again in Eastleigh, but… https://t.co/H66ZRVCPyI\n",
      "Hard to see why the Mid-Sussex Tories would want her after her serial disloyalty.\n",
      "Sources close to Amber are claiming she was offered Soames' old seat of Mid Sussex by the PM last week instead.\n",
      "Flashback: Tories Closed Candidate Selections for Rudd's Seat Last Friday\n",
      "https://t.co/WkAKK7k41B https://t.co/fuGvOLodj6\n",
      "@AmberRuddHR then why did CCHQ open selections in your seat eight days ago?\n",
      "https://t.co/WkAKK7k41B\n",
      "Dick Braine forced out as UKIP Leader.\n",
      "Sandbach to Stand as Independent https://t.co/E8Tm9MgLLh https://t.co/oxUjkEWGe2\n",
      "UPDATED: Chief Whip is unforgiving... https://t.co/eb2RZhiXEM\n",
      "[Watch] Ken Clarke's Send-Off https://t.co/gnzRMJuCO6 https://t.co/uf8Eqn7cmk\n",
      "Jess Phillips’ Boris Children Jibe https://t.co/OQTaYodFzs https://t.co/w6eyHXlxo4\n",
      "Jess claims her child has a 4 day school week. Isn't a 4 day week Labour policy? #PMQs\n",
      "Reminder, Momentum is not registered with the Electoral Commission, so has a £20,000 spending limit.  Best get that… https://t.co/FfHSERfNua\n",
      "Boris's Hilarious Bercow Send-Off Speech https://t.co/eFal52x1Uo https://t.co/prHakwzP7B\n",
      "David Lidington (Aylesbury) is standing down. Guido makes that 53 MPs who have formally announced they are quitting… https://t.co/NiyjnqZtWv\n",
      "Rejoice. https://t.co/KCoHH04iPX\n",
      "Bercow Has Lost his Bounce https://t.co/wOSCcg4jUD https://t.co/KG7JJ3rzJL\n",
      "@PeoplesMomentum Correct. You will be if you spend more than £20,000 when the election is called if you don't regis… https://t.co/fBINM2YnGH\n",
      "PMQs: Who's Asking The Questions? https://t.co/Vbh5uh8tMX https://t.co/nLEwP61VDW\n",
      "The Electoral Commission say Momentum got “the highest fine levied on a non-party campaigner for not submitting a c… https://t.co/5flrCuMo3x\n",
      "Momentum claiming our article is a smear and confirming it is factually correct. How very Trumpian. They told us si… https://t.co/DoVoil6zjf\n",
      "@PeoplesMomentum The Electoral Commission said you got “the highest fine levied on a non-party campaigner for not s… https://t.co/IJOitDJ20A\n",
      "@PeoplesMomentum So you are saying the article is correct and also a smear. How very Trumpian.\n",
      "You told us similar… https://t.co/0v9yArYrij\n",
      "@RobotPass @EuroGuido @peoplesvote_uk Not really.\n",
      "The Very Civil Service https://t.co/WLllhETXEw https://t.co/YIFXo0TsJ6\n",
      "UPDATE: Tories unforgiving. Says despite her wanting to leave as a Tory and going to see the Chief Whip to ask for… https://t.co/K6eXUmDkbz\n",
      "Parliament's House of Lords Election debate link currently redirecting to a Guardian article called '10 of the best… https://t.co/mZ7QSrZ9O6\n",
      "Corbyn usually shows solidarity with foreign strikers: \"Israeli missions close down worldwide as diplomats go on st… https://t.co/C593OarLJ7\n",
      "Brexit Party Worried About Leaks https://t.co/rKBb2xcO4G https://t.co/iEDGWFFNZd\n",
      "Amber Rudd Not Standing\n",
      "https://t.co/KDt27qaY69 https://t.co/AzgnhGH4QR\n",
      "52: Adrian Bailey, Labour MP for West Bromwich West is standing down.\n",
      "https://t.co/JU3uYqey4M\n",
      "Amber Rudd Not Standing https://t.co/KDt27qaY69 https://t.co/TtAxkfdM8m\n",
      "@PeoplesMomentum Cynical and deliberate flouting of the spending laws, same as they did last time.\n",
      "EXCLUSIVE: @PeoplesMomentum Have Not Registered With Electoral Commission, Already in Technical Breach of the Law… https://t.co/uCNM0epqaE\n",
      "@Thompson_Ant @Andrew_ComRes 43 days.\n",
      "Labour’s First Election Spin Cock Up https://t.co/eaG3vg4G9l https://t.co/SQMzkz482x\n",
      "QOTD: Matt Hancock's Tour of Britain https://t.co/abQihzPIGK https://t.co/sSAGbOZ7fT\n",
      "He actually rebukes @TitaniaMcGrath https://t.co/eYarZkhuDe\n",
      "Our tally hits 50! Overnight updates include Mims Davies, Owen Smith and returning some Independent Tories to the T… https://t.co/aI0f37QNLO\n",
      "Tories Start 16% Ahead, Curtice Gives Stark Warning https://t.co/EqznIZUArY https://t.co/BjqtEZTRqU\n",
      "https://t.co/NU15dU2cU2 https://t.co/U3gIteE0zb\n",
      "@skynewsniall @iamchica @BethRigby @adamboultonSKY 43 days to go...\n",
      "@mattzarb Am afraid God’s tenth commandment prohibits socialism “Thou shalt not covet thy neighbor's goods”.\n",
      "Whip confirms the remaining former-Tories who have not had the whip returned tonight could still be readmitted to t… https://t.co/2AsEdxq1wT\n",
      "SNP Data Gathering Hypocrisy https://t.co/Q5PIsgNduB\n",
      "Goodbye, Heidi https://t.co/WUMllG18Wo\n",
      "MPs Standing Down at the Next Election https://t.co/JU3uYqw8Wk\n",
      "Tea Room Row Over Speakership Election https://t.co/VLTO6DduUv\n",
      "Brexit Voters Told Not To Apply for 'Grand Tour' Job https://t.co/sk4PTtm3kC\n",
      "People's Vote Heavies Refuse Baldwin &amp; McGrory Entry to Rudd Meeting https://t.co/2LOu5UEnzk\n",
      "438-20\n",
      "Election bill passes 3rd reading.\n",
      "MPs Vote for December 12th Election https://t.co/703nKGCWfE https://t.co/OnZAMp5UdP\n",
      "Boris Will Not be the Shortest Serving PM Ever https://t.co/rLwxRTuWRW\n",
      "------------------------- fetched:  86  tweets.. -------------------------\n"
     ]
    },
    {
     "name": "stdout",
     "output_type": "stream",
     "text": [
      "------------------------- Cound not fetch @tom_watson  -------------------------\n",
      "------------------------- Cound not fetch @faisalislam  -------------------------\n",
      "------------------------- Cound not fetch @paulmasonnews  -------------------------\n",
      "@MhairiBlack tweeted: \n",
      "We will go to the polls on 12th December. Let’s show Boris that Scotland is having absolutely none of it. 🏴󠁧󠁢󠁳󠁣󠁴󠁿 https://t.co/fpbev85awG\n",
      "------------------------- fetched:  1  tweets.. -------------------------\n",
      "@OwenJones84 tweeted: \n",
      "The choice in this election is clear: either a hard Brexit and Thatcherism on steroids, or the end of a pro-rich co… https://t.co/ux4anyQwEK\n",
      "Best For Boris Johnson more like, @BestForBritain\n",
      "Absolutely incredible. @BestForBritain - supposedly committed to Remain, headed by a Lib Dem - has set up a tactica… https://t.co/zadkSE8G0q\n",
      "A decade of Tory rule has been a story of decline and crisis. Now it’s time to defeat the vested interests holding… https://t.co/bcSh3eWX07\n",
      "A Tory voter rang in to tell me that Tory Britain was a rosy, happy place, and I was a left-wing socialist fool for… https://t.co/CFXF3xCeSs\n",
      "Absolutely astonishing. @PeoplesMomentum set a target of raising £50,000 in 48 hours.\n",
      "\n",
      "They raised £100,000 in the… https://t.co/VEI9kprZ9y\n",
      "Is Jo Swinson going to spend the election lying about Labour - which is the only main party offering a referendum w… https://t.co/MpHMabmMqF\n",
      "A key @BorisJohnson tactic will be to claim this is a new government. It isn't. It's just the latest update of the… https://t.co/Wp6NWfWQrG\n",
      "We’ve got the money, resources and imagination to overcome every injustice, every major challenge. What we need is… https://t.co/V50P1IY5zy\n",
      "Let’s do this. https://t.co/rj1dEfHIoP\n",
      "------------------------- fetched:  10  tweets.. -------------------------\n",
      "@suttonnick tweeted: \n",
      "------------------------- fetched:  0  tweets.. -------------------------\n",
      "@afneil tweeted: \n",
      "The Andrew Neil Show coming up now on BBC2!!\n",
      "Great cover!!! https://t.co/ivSBgk6Oc6\n",
      "Don’t miss it. Tonight BBC2 7pm. I’ll be interviewing the Leader of the Lib Dem’s and the Chairman of the Tory part… https://t.co/4fj7U788rF\n",
      "US GDP rose at annual rate of 1.9% Q3, almost same as Q2’s 2% and above economists’ expectations (1.6%). Business i… https://t.co/DJFNqpXkj7\n",
      "The view from the tailplane as we land at Heathrow this morning. Great vantage point. But a bit parky. https://t.co/PqK0qObDoA\n",
      "Agreed. Avoid at all costs. https://t.co/rYWGO9TjZj\n",
      "------------------------- fetched:  6  tweets.. -------------------------\n",
      "@paulwaugh tweeted: \n",
      "@tpearce003 Does this mean you'll have more time to help with the Lobby football competition...? https://t.co/9nimsS2j7u\n",
      "\"Those Tory MPs mocking his tie would be better supporting justice for families and victims of the Grenfell fire an… https://t.co/C54dbX5YCG\n",
      ".@jeremycorbyn spokesman says \"it's fairly contemptible\" that   Tories mocked his Grenfell green tie.\n",
      "Speaker decides not to call @AmberRuddHR, and instead calls another Tory standing down, @RichardBenyonMP.\n",
      "As @joswinson gets her \"3-way' tv debate challenge into her PMQ, @theSNP MPs yell \"THREE-way???\".\n",
      "@AngelaRayner He must have seen your tweet Angela, paid tribute just now...\n",
      "Woah\n",
      "If she gets PMQ, will PM make mention of this?\n",
      ".@jackwdoyle scoop. https://t.co/Z2ZAYYz3zf https://t.co/XIhbDyeMMc\n",
      "Big miss from @BorisJohnson not to pay tribute to Ken Clarke.\n",
      "Lots of Tories waving order papers in support of Father of the House, however.\n",
      ".@KarenPBuckMP ties local NHS unit closure (sewage pipe leak) to nodeal Brexit spending. First Lab MP to mention th… https://t.co/R3g7pNiWCG\n",
      "Sir David Lidington to step down at next general election. \n",
      "Remember, for a few days earlier this year he was talke… https://t.co/CEUKjcLBvR\n",
      "The NHS staff shortages may be an easier sell to voters, especially as there is much more evidence for it than the… https://t.co/Bf1UL3bS11\n",
      "Ouch. @jessphillips suggests Boris Johnson does not take his parental responsibilities seriously enough.\n",
      "Corbyn repeatedly raising both 'privatisation of NHS' and NHS staff shortages/waiting times.\n",
      "Crystallises his wider… https://t.co/jsDjzBW0EY\n",
      ".@AmberRuddHR is bobbing for a #PMQ. Wonder if her parting shot will be at PM as much as at Corbyn?\n",
      "General election theme of NHS is dominating #PMQs.\n",
      "Corbyn will be happy, but by sounds of it Tories will be too.\n",
      "Lots of children (of MPs and of visitors) in the gallery watching this PMQs.\n",
      "Speaker's children liked Corbyn's trib… https://t.co/jl2K0qyRDI\n",
      ".@BorisJohnson jibes at Bercow not being a mere umpire in his 'high chair' but also a 'player'.\n",
      "This is Bercow's last #PMQs folks.\n",
      "Tory whips handing out poppies to their MPs pre PMQs\n",
      "@johnmcdonnellMP Discovered this from his email with an eyecatching subject line. https://t.co/ywSTI3zQ6P\n",
      "Labour raised £190k in one night from its first election 'chip  in'  online email appeal, @johnmcdonnellMP says.\n",
      "@RobDotHutton Your Christmas wish CAN come true Rob....*coughs*\n",
      "https://t.co/eCYmq13JIQ https://t.co/AYWcmdIoLm\n",
      "New ONS stats: 1.0 million children (8.2%) lived in long-term workless households in 2018. \n",
      "Lab will point out that… https://t.co/fCIL2VYqbb\n",
      "The latest WaughZone's 'What I'm Reading' also features this fascinating piece by @UKandEU's @DrAlanWager \n",
      "Far from… https://t.co/wEzRQ86b0a\n",
      "@CapurrodDaniel i  know! it's a pun!! Santa Week as in Father Xmas not as in holy week..:)\n",
      "No10 sources are indeed very cold on claims that @AmberRuddHR will be restored to the Tory whip. \"I think it  will… https://t.co/PzHCgfFomL\n",
      "Our festive election splash.\n",
      "They're making their lists, we're checking em twice,\n",
      "We're going to find out who's nau… https://t.co/PQgsxebzxD\n",
      "When @Marthakearney put the 'grandiose' point to  @joswinson this morning, she said the Lib Dems were 'within a sma… https://t.co/bXBJrAXN19\n",
      "Includes the point that Johnson + Corbyn yday looked happier than they have in months.  \n",
      "And their critics think th… https://t.co/7SNT3HqujE\n",
      "@philipjcowley @sjg123_ 'Youthquake' may not have been your phrase either? Pretty sure you were as sceptical about… https://t.co/na93nqHLLc\n",
      "The PM says it's going to be 'a tough election'. Here's the latest WaughZone on why that may not be mere expectatio… https://t.co/1qLSi2RBIY\n",
      "Then again...in 2019...some Tories are privately hoping  @joswinson will do very well in Tory-Lab marginals.\n",
      "They t… https://t.co/80hFch5q1l\n",
      "The last time the UK staged a December general election was 1923. Altho the Tories emerged as the biggest party, ga… https://t.co/imRCZWyiKU\n",
      "Tonight's WaughZone is out.\n",
      "Will the Brexitberg uncertainty principle reassert itself?\n",
      "https://t.co/y9b9clZZFQ\n",
      "Very safe seat up for grabs. https://t.co/5ELjp3uCVx\n",
      "Labour splits on show in vote for 3rd reading for early election bill:\n",
      "127 voted for election. But 104 didn't vote and 11 voted against.\n",
      ".@jeremycorbyn statement https://t.co/breHHxhnB5\n",
      "https://t.co/1IxF8IypdR\n",
      "Mps vote for Dec12 gen elxn by 438 to 20\n",
      ".@KarlTurnerMP's daughter is in the Commons chamber for this bit of history.\n",
      "Just waiting for final third reading to pass now, a formality given numbers but still needs final approval\n",
      "------------------------- fetched:  41  tweets.. -------------------------\n",
      "@bbclaurak tweeted: \n",
      "Nicky Morgan’s surprise decision very much based on personal reasons, not intended as comment on political direction of govt I understand\n",
      "Blimey - that is a surprise , serving Cabinet Minister standing down https://t.co/3qRkWgPOtU\n",
      "Goodness me.... this PMQs which is Bercow’s last, has gone on for more than an hour - it’s a like a leaving do wher… https://t.co/7K5ZvL791g\n",
      "And another one going too ... https://t.co/jQ5vTWb0b5\n",
      "Another formerly very senior MP leaving https://t.co/HKUCMCOeiZ\n",
      "Also whatever rumours, I understand that Bercow’s last day in the Speaker’s Chair will definitely be tomorrow and h… https://t.co/ONSoHdaBOB\n",
      "Amber Rudd is standing down\n",
      "Let’s see by end of th e day\n",
      "Rudd is not back with the whip yet - she has apparently had a positive conversation with Johnson but they haven't a… https://t.co/egk5eStxM4\n",
      "No pressure https://t.co/aiS1FbTOan\n",
      "Whatever you think of our politicians, sign up! https://t.co/1h9A7N3Zq6\n",
      "------------------------- fetched:  11  tweets.. -------------------------\n"
     ]
    }
   ],
   "source": [
    "for user in usernames:\n",
    "    try:\n",
    "        api.get_user(user)\n",
    "        c,s = print_tweets(user,last_day)\n",
    "        print('-----'*5,'fetched: ',c,' tweets..','-----'*5)  \n",
    "        c = print_new_tweets(user,last_day,s)\n",
    "        if (c >0): \n",
    "            print('-----'*5,'While processing.. @',user,' fetched: ',c,' new tweets','-----'*5)           \n",
    "    except Exception as err:\n",
    "        print('-----'*5,'Cound not fetch','@'+user,'-----'*5)"
   ]
  },
  {
   "cell_type": "markdown",
   "metadata": {},
   "source": [
    "### Part 2: Processing Twitter accounts"
   ]
  },
  {
   "cell_type": "markdown",
   "metadata": {},
   "source": [
    "### 2.1 Scrape and Put in a `DataFrame`"
   ]
  },
  {
   "cell_type": "markdown",
   "metadata": {},
   "source": [
    "In a similar way as before, we store the html content of the website that contains the list of UK MPs with active Twitter accounts organised by their party."
   ]
  },
  {
   "cell_type": "code",
   "execution_count": 15,
   "metadata": {},
   "outputs": [
    {
     "name": "stdout",
     "output_type": "stream",
     "text": [
      "Page retrieval OK\n"
     ]
    }
   ],
   "source": [
    "try:\n",
    "    r = requests.get(\"https://www.mpsontwitter.co.uk/list\")\n",
    "except requests.exceptions.RequestException as rex:\n",
    "    print(rex)\n",
    "else:\n",
    "    print(\"Page retrieval OK\")\n",
    "    \n",
    "html = r.content\n",
    "soup = BeautifulSoup(html, 'html.parser')"
   ]
  },
  {
   "cell_type": "markdown",
   "metadata": {},
   "source": [
    "* Discovering a pattern in the way the data is stored, allows us to properly scrape the information that we need.\n",
    "* This time the information is stored in html tables with **<tr\\>** corresponding to the rows of the table, and **<td\\>** in the columns.\n",
    "* The information is then stored to a list of tuples."
   ]
  },
  {
   "cell_type": "code",
   "execution_count": 16,
   "metadata": {},
   "outputs": [],
   "source": [
    "container = soup.body.find_all('div',{'class': 'table-responsive'})[1]\n",
    "my_table = container.find(\"table\", {\"class\": \"table table-striped table-hover\"})\n",
    "mp_members = []\n",
    "try:\n",
    "    for tr in my_table.find_all('tr'):\n",
    "        cols = tr.find_all('td')  \n",
    "        if (len(cols)==10):\n",
    "            mp_members.append((\n",
    "               cols[2].get_text().strip(),\n",
    "               cols[3].get_text().strip(),\n",
    "               cols[4].get_text().strip(),\n",
    "               cols[5].get_text().strip(),\n",
    "               cols[6].get_text().strip())\n",
    "              )\n",
    "except:\n",
    "    pass"
   ]
  },
  {
   "cell_type": "markdown",
   "metadata": {},
   "source": [
    "* We put the contents of the list to a `dataframe`, and rename the columns accordingly.\n",
    "* Also we transform the data type of the `num_followers` column to be numeric."
   ]
  },
  {
   "cell_type": "code",
   "execution_count": 17,
   "metadata": {},
   "outputs": [],
   "source": [
    "df = pd.DataFrame(mp_members,\n",
    "                  columns = ['name', 'username', 'constituency', 'party', 'num_followers'] )\n",
    "df['num_followers'] = pd.to_numeric(df['num_followers'].str.replace(',',''))"
   ]
  },
  {
   "cell_type": "markdown",
   "metadata": {},
   "source": [
    "### 2.2 Create a Hierarchical Index"
   ]
  },
  {
   "cell_type": "markdown",
   "metadata": {},
   "source": [
    "* A MultiIndex object is basically an array of tuples where each tuple is unique. It is a great tool for working with higher dimensional data.\n",
    "* We can make a MultiIndex object using the columns of a dataframe as follows:"
   ]
  },
  {
   "cell_type": "code",
   "execution_count": 18,
   "metadata": {},
   "outputs": [
    {
     "data": {
      "text/plain": [
       "MultiIndex([(         'Conservative',  14960),\n",
       "            (         'Conservative',  26107),\n",
       "            (         'Conservative',   8337),\n",
       "            (         'Conservative',   8998),\n",
       "            (         'Conservative',  15088),\n",
       "            (         'Conservative',   3335),\n",
       "            (         'Conservative',   8411),\n",
       "            (         'Conservative',  17555),\n",
       "            (         'Conservative',  13743),\n",
       "            (         'Conservative',   7752),\n",
       "            ...\n",
       "            (            'Sinn Fein',   6530),\n",
       "            (            'Sinn Fein',  16767),\n",
       "            (            'Sinn Fein',   4309),\n",
       "            (            'Sinn Fein',   5357),\n",
       "            (            'Sinn Fein',  15217),\n",
       "            ('The Independent Group',  20643),\n",
       "            ('The Independent Group', 197417),\n",
       "            ('The Independent Group',  51609),\n",
       "            ('The Independent Group',  19493),\n",
       "            ('The Independent Group',  42805)],\n",
       "           names=['party', 'num_followers'], length=587)"
      ]
     },
     "execution_count": 18,
     "metadata": {},
     "output_type": "execute_result"
    }
   ],
   "source": [
    "pd.MultiIndex.from_frame(df[['party','num_followers']])"
   ]
  },
  {
   "cell_type": "markdown",
   "metadata": {},
   "source": [
    "* Or we can simply use `set_index` with the columns that we want:\n",
    "* Using `inplace=True` modifies the DataFrame in place (does not create a new object)."
   ]
  },
  {
   "cell_type": "code",
   "execution_count": 19,
   "metadata": {},
   "outputs": [],
   "source": [
    "df.set_index(['party','num_followers'], inplace=True)"
   ]
  },
  {
   "cell_type": "markdown",
   "metadata": {},
   "source": [
    "We use this Hiearchical Index to sort the data"
   ]
  },
  {
   "cell_type": "code",
   "execution_count": 20,
   "metadata": {},
   "outputs": [],
   "source": [
    "df.sort_index(inplace=True)"
   ]
  },
  {
   "cell_type": "markdown",
   "metadata": {},
   "source": [
    "We then show a sample of the dataframe, showing only the username column:"
   ]
  },
  {
   "cell_type": "code",
   "execution_count": 21,
   "metadata": {},
   "outputs": [
    {
     "data": {
      "text/plain": [
       "party                  num_followers\n",
       "Conservative           0                 @AndrewBowieMP\n",
       "                       513              @maggie_erewash\n",
       "                       878              @SirRogerGaleMP\n",
       "                       1070             @richardbaconmp\n",
       "                       1078              @daviddaguidmp\n",
       "                                             ...       \n",
       "The Independent Group  20643              @anncoffey_mp\n",
       "                       42805                 @MikeGapes\n",
       "                       51609             @ChrisLeslieMP\n",
       "                       197417              @Anna_Soubry\n",
       "liberal democrat       92027            @sarahwollaston\n",
       "Name: username, Length: 587, dtype: object"
      ]
     },
     "execution_count": 21,
     "metadata": {},
     "output_type": "execute_result"
    }
   ],
   "source": [
    "df.username"
   ]
  },
  {
   "cell_type": "markdown",
   "metadata": {},
   "source": [
    "### 2.3 Assess the Party Twitter Power "
   ]
  },
  {
   "cell_type": "markdown",
   "metadata": {},
   "source": [
    "* In order to compare the Twitter Power for each political party, we must first remove `num_followers` from the MultiIndex and restore it as a column.\n",
    "* Then the dataframe's index is only `party`, which is exactly what we need for our grouping step.\n",
    "* We use the column `num_followers` and group by the first level (level=0). We then sum the results. What we have left is the sum of followers for every party."
   ]
  },
  {
   "cell_type": "code",
   "execution_count": 22,
   "metadata": {},
   "outputs": [],
   "source": [
    "party_power = df.reset_index(1).num_followers.groupby(level=0).sum()"
   ]
  },
  {
   "cell_type": "markdown",
   "metadata": {},
   "source": [
    "Reseting the index, allows us to sort the values by num_followers and store the results to `party_power`."
   ]
  },
  {
   "cell_type": "code",
   "execution_count": 23,
   "metadata": {},
   "outputs": [],
   "source": [
    "party_power = party_power.reset_index()"
   ]
  },
  {
   "cell_type": "code",
   "execution_count": 24,
   "metadata": {},
   "outputs": [],
   "source": [
    "party_power = party_power.sort_values(by='num_followers', ascending=False)"
   ]
  },
  {
   "cell_type": "markdown",
   "metadata": {},
   "source": [
    "Finally using the `seaborn` library, we produce a `barplot` that shows the Party Twitter Power."
   ]
  },
  {
   "cell_type": "code",
   "execution_count": 25,
   "metadata": {},
   "outputs": [
    {
     "data": {
      "text/plain": [
       "<matplotlib.axes._subplots.AxesSubplot at 0x210b88aeec8>"
      ]
     },
     "execution_count": 25,
     "metadata": {},
     "output_type": "execute_result"
    },
    {
     "data": {
      "image/png": "[encoded data removed]",
      "text/plain": [
       "<Figure size 432x288 with 1 Axes>"
      ]
     },
     "metadata": {
      "needs_background": "light"
     },
     "output_type": "display_data"
    }
   ],
   "source": [
    "import seaborn as sns\n",
    "sns.barplot(x='num_followers',y='party',data=party_power)"
   ]
  },
  {
   "cell_type": "markdown",
   "metadata": {},
   "source": [
    "Similarly, using panda's `plot()`:"
   ]
  },
  {
   "cell_type": "code",
   "execution_count": 26,
   "metadata": {
    "scrolled": true
   },
   "outputs": [
    {
     "data": {
      "text/plain": [
       "<matplotlib.axes._subplots.AxesSubplot at 0x210b8ba9308>"
      ]
     },
     "execution_count": 26,
     "metadata": {},
     "output_type": "execute_result"
    },
    {
     "data": {
      "image/png": "[encoded data removed]",
      "text/plain": [
       "<Figure size 432x288 with 1 Axes>"
      ]
     },
     "metadata": {
      "needs_background": "light"
     },
     "output_type": "display_data"
    }
   ],
   "source": [
    "party_power.plot(x='party',y='num_followers'\n",
    "                ,kind='barh'\n",
    "                ,title='Party Twitter Power'\n",
    "                ,legend=False\n",
    "                ,color = '#86bf91'\n",
    "                )"
   ]
  },
  {
   "cell_type": "markdown",
   "metadata": {},
   "source": [
    "## Part 3: Processing Text Content"
   ]
  },
  {
   "cell_type": "markdown",
   "metadata": {},
   "source": [
    "### 3.1 Prepare a Profanity Set"
   ]
  },
  {
   "cell_type": "markdown",
   "metadata": {},
   "source": [
    "* We will use <http://staffwww.dcs.shef.ac.uk/people/G.Gorrell/publications-materials/abuse-terms.txt> as a source of abuse terms.\n",
    "* Firstly, we pass the url to panda's `read_csv`, specifying which rows to skip.\n",
    "* Then we use a regular expression to clean the terms from any redundant information\n",
    "* Remove nouns and pronouns, and any whitespaces\n",
    "* Make every term lower case\n",
    "* Finally we create a list from all the abusive terms."
   ]
  },
  {
   "cell_type": "code",
   "execution_count": 27,
   "metadata": {},
   "outputs": [],
   "source": [
    "abuse_url = 'http://staffwww.dcs.shef.ac.uk/people/G.Gorrell/publications-materials/abuse-terms.txt'\n",
    "abuse_tweets = 'https://raw.githubusercontent.com/t-davidson/hate-speech-and-offensive-language/master/data/labeled_data.csv'"
   ]
  },
  {
   "cell_type": "code",
   "execution_count": 28,
   "metadata": {},
   "outputs": [],
   "source": [
    "p = pd.read_csv(abuse_url,skiprows = 24,names = ['abuseword']) #skip first 24 rows, specify column name\n",
    "\n",
    "p['abuseword'] =  p['abuseword'].apply(lambda x: re.sub(r'\\t.*|\\*+','', str(x))) #remove noise\n",
    "p = p[~p.abuseword.str.contains(\"TOTAL\")] # remove rows that start with TOTAL\n",
    "\n",
    "p['abuseword'] =  p['abuseword'].str.replace('-','') #replace - with empty string\n",
    "p['abuseword'] =  p['abuseword'].apply(lambda x: re.sub(r'^(a|u|you|your)\\s+|\\s+(you|off)$','', str(x))) #remove pronouns\n",
    "p['abuseword'] =  p['abuseword'].apply(lambda x: re.sub(r'\\s+','', str(x))) # remove any whitespaces\n",
    "p['abuseword'] =  p['abuseword'].map(lambda x: x.lower()) #make lower case\n",
    "\n",
    "bad_words = p['abuseword'].unique() #getting unique values\n",
    "bad_words = bad_words.tolist()\n",
    "bad_words = list(filter(None, bad_words)) #filter out empty strings"
   ]
  },
  {
   "cell_type": "markdown",
   "metadata": {},
   "source": [
    "### 3.2 Parse Tweets"
   ]
  },
  {
   "cell_type": "markdown",
   "metadata": {},
   "source": [
    "Import the dataset with labeled tweets:"
   ]
  },
  {
   "cell_type": "code",
   "execution_count": 29,
   "metadata": {},
   "outputs": [],
   "source": [
    "t = pd.read_csv(abuse_tweets,usecols = ['count','hate_speech','offensive_language','neither','class','tweet'])"
   ]
  },
  {
   "cell_type": "markdown",
   "metadata": {},
   "source": [
    "And rename the **tweet** column to **text**"
   ]
  },
  {
   "cell_type": "code",
   "execution_count": 30,
   "metadata": {},
   "outputs": [],
   "source": [
    "t = t.rename(columns={\"tweet\": \"text\"})"
   ]
  },
  {
   "cell_type": "markdown",
   "metadata": {},
   "source": [
    "Create a copy of the tweets, before the cleansing begins."
   ]
  },
  {
   "cell_type": "code",
   "execution_count": 31,
   "metadata": {},
   "outputs": [],
   "source": [
    "t['raw'] = t['text']"
   ]
  },
  {
   "cell_type": "markdown",
   "metadata": {},
   "source": [
    "* We filter out any unnecessary symbols.\n",
    "* We also remove any usernames that the tweet was referring to with RT or any urls\n",
    "* Finally we remove any emoticons (words that start with the symbol &)"
   ]
  },
  {
   "cell_type": "code",
   "execution_count": 32,
   "metadata": {},
   "outputs": [],
   "source": [
    "t['text'] = t['text'].apply(lambda x: re.sub(r'^[!]+\\s*|RT\\s*|&\\S+|@\\S+|\\n+|\\w+:\\/\\/\\S+','', str(x)))"
   ]
  },
  {
   "cell_type": "markdown",
   "metadata": {},
   "source": [
    "Now, we remove any sumbols that are not alphanumeric and transform the column to lower case using `lower()`:"
   ]
  },
  {
   "cell_type": "code",
   "execution_count": 33,
   "metadata": {},
   "outputs": [],
   "source": [
    "t['text'] = t['text'].apply(lambda x: re.sub(r'[^A-Za-z0-9\\s]',' ', str(x)))\n",
    "t['text'] = t['text'].map(lambda x: x.lower())"
   ]
  },
  {
   "cell_type": "markdown",
   "metadata": {},
   "source": [
    "We split the words in the tweets into a list of strings"
   ]
  },
  {
   "cell_type": "code",
   "execution_count": 68,
   "metadata": {},
   "outputs": [
    {
     "data": {
      "text/plain": [
       "0    [as, a, woman, you, shouldn, t, complain, abou...\n",
       "1    [boy, dats, cold, tyga, dwn, bad, for, cuffin,...\n",
       "2    [dawg, you, ever, fuck, a, bitch, and, she, st...\n",
       "Name: list_words, dtype: object"
      ]
     },
     "execution_count": 68,
     "metadata": {},
     "output_type": "execute_result"
    }
   ],
   "source": [
    "t['list_words'] = t['text'].apply(lambda x: x.split())\n",
    "\n",
    "t['list_words'][:3]"
   ]
  },
  {
   "cell_type": "markdown",
   "metadata": {},
   "source": [
    "### 3.3 Count Abuse"
   ]
  },
  {
   "cell_type": "markdown",
   "metadata": {},
   "source": [
    "* We notice that there are many variations of the same word in the dataset, like `bitches` and `bitch`. We will use a technique to map many alternatives into a single term.\n",
    "* We will apply this transformation for every row in the dataframe."
   ]
  },
  {
   "cell_type": "code",
   "execution_count": 35,
   "metadata": {},
   "outputs": [],
   "source": [
    "abuse_mapping = {\n",
    "    'bitches' : 'bitch', \n",
    "    'nigga' : 'nigger',\n",
    "    'negro' : 'nigger', \n",
    "    'niggers': 'nigger',\n",
    "    'fag': 'faggot',\n",
    "    'pussies': 'pussy',\n",
    "    'asses': 'ass'\n",
    "}\n",
    "\n",
    "f = lambda x: abuse_mapping.get(x, x) "
   ]
  },
  {
   "cell_type": "code",
   "execution_count": 36,
   "metadata": {},
   "outputs": [],
   "source": [
    "t['list_words'] = t['list_words'].map(lambda row: list(map(f,row) ))"
   ]
  },
  {
   "cell_type": "markdown",
   "metadata": {},
   "source": [
    "Then we count how many words in the tweet are in the list of abusive terms and store it as integer in the dataframe."
   ]
  },
  {
   "cell_type": "code",
   "execution_count": 37,
   "metadata": {},
   "outputs": [],
   "source": [
    "t['abusive_counter'] = t['list_words'].apply(lambda x: sum(word in bad_words for word in x)).astype(int)"
   ]
  },
  {
   "cell_type": "markdown",
   "metadata": {},
   "source": [
    "* With `groupby()` we create a Group Dataframe, which we use to find the mean, median, minimum, maximum, and sum of bad words in each class.\n",
    "* `class=1` contains by far the most abusive terms. Interestingly, though, `class=2` contains a few bad words as well."
   ]
  },
  {
   "cell_type": "code",
   "execution_count": 38,
   "metadata": {},
   "outputs": [
    {
     "data": {
      "text/html": [
       "<div>\n",
       "<style scoped>\n",
       "    .dataframe tbody tr th:only-of-type {\n",
       "        vertical-align: middle;\n",
       "    }\n",
       "\n",
       "    .dataframe tbody tr th {\n",
       "        vertical-align: top;\n",
       "    }\n",
       "\n",
       "    .dataframe thead th {\n",
       "        text-align: right;\n",
       "    }\n",
       "</style>\n",
       "<table border=\"1\" class=\"dataframe\">\n",
       "  <thead>\n",
       "    <tr style=\"text-align: right;\">\n",
       "      <th></th>\n",
       "      <th>mean</th>\n",
       "      <th>median</th>\n",
       "      <th>amin</th>\n",
       "      <th>amax</th>\n",
       "      <th>sum</th>\n",
       "    </tr>\n",
       "    <tr>\n",
       "      <th>class</th>\n",
       "      <th></th>\n",
       "      <th></th>\n",
       "      <th></th>\n",
       "      <th></th>\n",
       "      <th></th>\n",
       "    </tr>\n",
       "  </thead>\n",
       "  <tbody>\n",
       "    <tr>\n",
       "      <th>0</th>\n",
       "      <td>1.061538</td>\n",
       "      <td>1</td>\n",
       "      <td>0</td>\n",
       "      <td>12</td>\n",
       "      <td>1518</td>\n",
       "    </tr>\n",
       "    <tr>\n",
       "      <th>1</th>\n",
       "      <td>1.005315</td>\n",
       "      <td>1</td>\n",
       "      <td>0</td>\n",
       "      <td>16</td>\n",
       "      <td>19292</td>\n",
       "    </tr>\n",
       "    <tr>\n",
       "      <th>2</th>\n",
       "      <td>0.051886</td>\n",
       "      <td>0</td>\n",
       "      <td>0</td>\n",
       "      <td>2</td>\n",
       "      <td>216</td>\n",
       "    </tr>\n",
       "  </tbody>\n",
       "</table>\n",
       "</div>"
      ],
      "text/plain": [
       "           mean  median  amin  amax    sum\n",
       "class                                     \n",
       "0      1.061538       1     0    12   1518\n",
       "1      1.005315       1     0    16  19292\n",
       "2      0.051886       0     0     2    216"
      ]
     },
     "execution_count": 38,
     "metadata": {},
     "output_type": "execute_result"
    }
   ],
   "source": [
    "grouped = t.groupby('class')\n",
    "grouped['abusive_counter'].agg([np.mean, np.median, np.min, np.max, np.sum])"
   ]
  },
  {
   "cell_type": "markdown",
   "metadata": {},
   "source": [
    "### 3.4 Visualize Profanity"
   ]
  },
  {
   "cell_type": "markdown",
   "metadata": {},
   "source": [
    "Before we move forward, it is important to notice that the sample of tweets is not evenly distributed between the classes. The amount of tweets in `class=1` is  greater than the other two classes by a large factor."
   ]
  },
  {
   "cell_type": "code",
   "execution_count": 39,
   "metadata": {},
   "outputs": [
    {
     "data": {
      "image/png": "[encoded data removed]",
      "text/plain": [
       "<Figure size 432x288 with 1 Axes>"
      ]
     },
     "metadata": {
      "needs_background": "light"
     },
     "output_type": "display_data"
    }
   ],
   "source": [
    "from matplotlib import pyplot as plt\n",
    "import seaborn as sns\n",
    "sns.countplot(x = 'class',data = t, palette=\"husl\")\n",
    "plt.show()"
   ]
  },
  {
   "cell_type": "markdown",
   "metadata": {},
   "source": [
    "* To visualize a histogram of bad words per class, we use a FacetGrid and set the columns to be the categorical variable `class`\n",
    "* We can see that classes 0 and 1 have most of their data distributed at 1 abusive words per tweet, unlike class 2 that has most tweets contain zero bad words."
   ]
  },
  {
   "cell_type": "code",
   "execution_count": 78,
   "metadata": {},
   "outputs": [
    {
     "data": {
      "image/png": "[encoded data removed]",
      "text/plain": [
       "<Figure size 648x216 with 3 Axes>"
      ]
     },
     "metadata": {},
     "output_type": "display_data"
    }
   ],
   "source": [
    "sns.set_style('darkgrid')\n",
    "g = sns.FacetGrid(t, col=\"class\")\n",
    "g.map(plt.hist, \"abusive_counter\",bins=16)\n",
    "g.set(xticks=np.arange(0,16,2)) # change xticks\n",
    "plt.show()"
   ]
  },
  {
   "cell_type": "markdown",
   "metadata": {},
   "source": [
    "Similarly, using seaborn's `distplot()` and FacetGrid with `class` for each row:"
   ]
  },
  {
   "cell_type": "code",
   "execution_count": 73,
   "metadata": {
    "scrolled": false
   },
   "outputs": [
    {
     "data": {
      "text/plain": [
       "<seaborn.axisgrid.FacetGrid at 0x210be1e8688>"
      ]
     },
     "execution_count": 73,
     "metadata": {},
     "output_type": "execute_result"
    },
    {
     "data": {
      "image/png": "[encoded data removed]",
      "text/plain": [
       "<Figure size 648x648 with 3 Axes>"
      ]
     },
     "metadata": {},
     "output_type": "display_data"
    }
   ],
   "source": [
    "sns.set(style=\"darkgrid\")\n",
    "g = sns.FacetGrid(t, row=\"class\", row_order=[0,1,2] , aspect=3,margin_titles = True)\n",
    "g.map(sns.distplot, \"abusive_counter\", kde=False,bins=np.arange(0,16));\n",
    "g.set(xticks=np.arange(-1,16)) # change xticks"
   ]
  },
  {
   "cell_type": "markdown",
   "metadata": {},
   "source": [
    "* Using a `violinplot()` lets us get a better insight about the amount of bad words between the classes. \n",
    "* We can see that classes 0  and 1 are pretty similar, they have a median of 1 bad words per tweet, although, `Class=1` appears to have larger outliers.\n",
    "* `Class=2` is mostly distributed around 0 bad terms per tweet as we expected."
   ]
  },
  {
   "cell_type": "code",
   "execution_count": 42,
   "metadata": {},
   "outputs": [
    {
     "data": {
      "image/png": "[encoded data removed]",
      "text/plain": [
       "<Figure size 432x288 with 1 Axes>"
      ]
     },
     "metadata": {},
     "output_type": "display_data"
    }
   ],
   "source": [
    "sns.set_style('darkgrid')\n",
    "g =sns.violinplot(x = 'class',y='abusive_counter',data = t, bw=2, palette=\"husl\")\n",
    "g.set(yticks=np.arange(0,16,2)) # change xticks\n",
    "plt.show()"
   ]
  },
  {
   "cell_type": "markdown",
   "metadata": {},
   "source": [
    "`Striplot()`:\n",
    "* To avoid overlapping points we use the `Jitter` parameter that adds some random noise to the data along the x-axis. We can see clearly the distribution of bad words per class.\n",
    "* This time, the differences between `class=0` and `class=1` are more easily defined."
   ]
  },
  {
   "cell_type": "code",
   "execution_count": 43,
   "metadata": {},
   "outputs": [
    {
     "data": {
      "image/png": "[encoded data removed]",
      "text/plain": [
       "<Figure size 432x288 with 1 Axes>"
      ]
     },
     "metadata": {},
     "output_type": "display_data"
    }
   ],
   "source": [
    "sns.stripplot(x = 'class',y='abusive_counter',data = t, jitter=True, palette=\"husl\")\n",
    "plt.show()"
   ]
  },
  {
   "cell_type": "markdown",
   "metadata": {},
   "source": [
    "`Boxplot()`:\n",
    "* With this particular graph, we can see that any bad words in `class=2` are basically outliers.\n",
    "* `Class 0` has an **Interquartile Range (IQR)** of 1. **75%** of this class data contain one bad word per tweet, while **25%** zero.\n",
    "* `Class 1` has so many tweets with one bad word that any other value is considered an outlier."
   ]
  },
  {
   "cell_type": "code",
   "execution_count": 44,
   "metadata": {},
   "outputs": [
    {
     "data": {
      "image/png": "[encoded data removed]",
      "text/plain": [
       "<Figure size 432x288 with 1 Axes>"
      ]
     },
     "metadata": {},
     "output_type": "display_data"
    }
   ],
   "source": [
    "sns.set_style('darkgrid')\n",
    "sns.boxplot(y= 'class',x='abusive_counter',data = t, orient = 'h', palette=\"husl\")\n",
    "plt.show()"
   ]
  },
  {
   "cell_type": "markdown",
   "metadata": {},
   "source": [
    "### 3.5 Explore Profanity per Class"
   ]
  },
  {
   "cell_type": "markdown",
   "metadata": {},
   "source": [
    "First things first, we create one list per class, which contains every word for all tweets in this class."
   ]
  },
  {
   "cell_type": "code",
   "execution_count": 45,
   "metadata": {},
   "outputs": [],
   "source": [
    "class_0 =  [val for sublist in list(t.loc[t['class']==0,'list_words'].values) for val in sublist]\n",
    "class_1 =  [val for sublist in list(t.loc[t['class']==1,'list_words'].values) for val in sublist]\n",
    "class_2 =  [val for sublist in list(t.loc[t['class']==2,'list_words'].values) for val in sublist]"
   ]
  },
  {
   "cell_type": "markdown",
   "metadata": {},
   "source": [
    "We then create one list per class that contain **only** the bad words according to the list of abusive terms."
   ]
  },
  {
   "cell_type": "code",
   "execution_count": 46,
   "metadata": {},
   "outputs": [],
   "source": [
    "abusive_class0 = [word for word in class_0 if word in bad_words]\n",
    "abusive_class1 = [word for word in class_1 if word in bad_words]\n",
    "abusive_class2 = [word for word in class_2 if word in bad_words]"
   ]
  },
  {
   "cell_type": "markdown",
   "metadata": {},
   "source": [
    "Finally, using `Counter` from `Collections` library, we find the 30 most common abusive terms for each class and present them in a dataframe:"
   ]
  },
  {
   "cell_type": "code",
   "execution_count": 47,
   "metadata": {},
   "outputs": [
    {
     "data": {
      "text/html": [
       "<div>\n",
       "<style scoped>\n",
       "    .dataframe tbody tr th:only-of-type {\n",
       "        vertical-align: middle;\n",
       "    }\n",
       "\n",
       "    .dataframe tbody tr th {\n",
       "        vertical-align: top;\n",
       "    }\n",
       "\n",
       "    .dataframe thead th {\n",
       "        text-align: right;\n",
       "    }\n",
       "</style>\n",
       "<table border=\"1\" class=\"dataframe\">\n",
       "  <thead>\n",
       "    <tr style=\"text-align: right;\">\n",
       "      <th></th>\n",
       "      <th>class 0</th>\n",
       "      <th>class 1</th>\n",
       "      <th>class 2</th>\n",
       "    </tr>\n",
       "  </thead>\n",
       "  <tbody>\n",
       "    <tr>\n",
       "      <th>0</th>\n",
       "      <td>(nigger, 315)</td>\n",
       "      <td>(bitch, 11144)</td>\n",
       "      <td>(die, 18)</td>\n",
       "    </tr>\n",
       "    <tr>\n",
       "      <th>1</th>\n",
       "      <td>(bitch, 268)</td>\n",
       "      <td>(pussy, 2185)</td>\n",
       "      <td>(cripple, 14)</td>\n",
       "    </tr>\n",
       "    <tr>\n",
       "      <th>2</th>\n",
       "      <td>(faggot, 266)</td>\n",
       "      <td>(ass, 1451)</td>\n",
       "      <td>(coon, 14)</td>\n",
       "    </tr>\n",
       "    <tr>\n",
       "      <th>3</th>\n",
       "      <td>(ass, 139)</td>\n",
       "      <td>(fuck, 1297)</td>\n",
       "      <td>(bitch, 11)</td>\n",
       "    </tr>\n",
       "    <tr>\n",
       "      <th>4</th>\n",
       "      <td>(fuck, 121)</td>\n",
       "      <td>(nigger, 1273)</td>\n",
       "      <td>(wop, 11)</td>\n",
       "    </tr>\n",
       "    <tr>\n",
       "      <th>5</th>\n",
       "      <td>(pussy, 52)</td>\n",
       "      <td>(faggot, 384)</td>\n",
       "      <td>(tranny, 11)</td>\n",
       "    </tr>\n",
       "    <tr>\n",
       "      <th>6</th>\n",
       "      <td>(kill, 32)</td>\n",
       "      <td>(dick, 320)</td>\n",
       "      <td>(kill, 10)</td>\n",
       "    </tr>\n",
       "    <tr>\n",
       "      <th>7</th>\n",
       "      <td>(queer, 30)</td>\n",
       "      <td>(cunt, 226)</td>\n",
       "      <td>(queer, 9)</td>\n",
       "    </tr>\n",
       "    <tr>\n",
       "      <th>8</th>\n",
       "      <td>(dyke, 29)</td>\n",
       "      <td>(retard, 91)</td>\n",
       "      <td>(gook, 8)</td>\n",
       "    </tr>\n",
       "    <tr>\n",
       "      <th>9</th>\n",
       "      <td>(cunt, 25)</td>\n",
       "      <td>(kill, 89)</td>\n",
       "      <td>(spook, 8)</td>\n",
       "    </tr>\n",
       "    <tr>\n",
       "      <th>10</th>\n",
       "      <td>(coon, 21)</td>\n",
       "      <td>(stfu, 88)</td>\n",
       "      <td>(pussy, 7)</td>\n",
       "    </tr>\n",
       "    <tr>\n",
       "      <th>11</th>\n",
       "      <td>(retard, 18)</td>\n",
       "      <td>(die, 55)</td>\n",
       "      <td>(nigger, 7)</td>\n",
       "    </tr>\n",
       "    <tr>\n",
       "      <th>12</th>\n",
       "      <td>(dick, 18)</td>\n",
       "      <td>(dyke, 46)</td>\n",
       "      <td>(balls, 6)</td>\n",
       "    </tr>\n",
       "    <tr>\n",
       "      <th>13</th>\n",
       "      <td>(spic, 18)</td>\n",
       "      <td>(queer, 45)</td>\n",
       "      <td>(honky, 6)</td>\n",
       "    </tr>\n",
       "    <tr>\n",
       "      <th>14</th>\n",
       "      <td>(stfu, 14)</td>\n",
       "      <td>(slut, 43)</td>\n",
       "      <td>(murder, 6)</td>\n",
       "    </tr>\n",
       "    <tr>\n",
       "      <th>15</th>\n",
       "      <td>(die, 13)</td>\n",
       "      <td>(twat, 41)</td>\n",
       "      <td>(beaner, 4)</td>\n",
       "    </tr>\n",
       "    <tr>\n",
       "      <th>16</th>\n",
       "      <td>(beaner, 11)</td>\n",
       "      <td>(whore, 32)</td>\n",
       "      <td>(honkey, 4)</td>\n",
       "    </tr>\n",
       "    <tr>\n",
       "      <th>17</th>\n",
       "      <td>(wetback, 8)</td>\n",
       "      <td>(tranny, 31)</td>\n",
       "      <td>(twat, 3)</td>\n",
       "    </tr>\n",
       "    <tr>\n",
       "      <th>18</th>\n",
       "      <td>(whore, 8)</td>\n",
       "      <td>(cock, 26)</td>\n",
       "      <td>(paki, 3)</td>\n",
       "    </tr>\n",
       "    <tr>\n",
       "      <th>19</th>\n",
       "      <td>(chink, 8)</td>\n",
       "      <td>(balls, 24)</td>\n",
       "      <td>(hang, 3)</td>\n",
       "    </tr>\n",
       "    <tr>\n",
       "      <th>20</th>\n",
       "      <td>(gook, 7)</td>\n",
       "      <td>(hang, 24)</td>\n",
       "      <td>(ass, 3)</td>\n",
       "    </tr>\n",
       "    <tr>\n",
       "      <th>21</th>\n",
       "      <td>(homo, 6)</td>\n",
       "      <td>(asshole, 23)</td>\n",
       "      <td>(idiot, 3)</td>\n",
       "    </tr>\n",
       "    <tr>\n",
       "      <th>22</th>\n",
       "      <td>(tranny, 6)</td>\n",
       "      <td>(coon, 20)</td>\n",
       "      <td>(jap, 3)</td>\n",
       "    </tr>\n",
       "    <tr>\n",
       "      <th>23</th>\n",
       "      <td>(hang, 5)</td>\n",
       "      <td>(dumbass, 18)</td>\n",
       "      <td>(murdered, 3)</td>\n",
       "    </tr>\n",
       "    <tr>\n",
       "      <th>24</th>\n",
       "      <td>(rape, 4)</td>\n",
       "      <td>(penis, 15)</td>\n",
       "      <td>(douche, 2)</td>\n",
       "    </tr>\n",
       "    <tr>\n",
       "      <th>25</th>\n",
       "      <td>(balls, 4)</td>\n",
       "      <td>(rape, 14)</td>\n",
       "      <td>(rape, 2)</td>\n",
       "    </tr>\n",
       "    <tr>\n",
       "      <th>26</th>\n",
       "      <td>(kike, 4)</td>\n",
       "      <td>(fucker, 13)</td>\n",
       "      <td>(dyke, 2)</td>\n",
       "    </tr>\n",
       "    <tr>\n",
       "      <th>27</th>\n",
       "      <td>(coward, 3)</td>\n",
       "      <td>(dicks, 12)</td>\n",
       "      <td>(mong, 2)</td>\n",
       "    </tr>\n",
       "    <tr>\n",
       "      <th>28</th>\n",
       "      <td>(honkey, 3)</td>\n",
       "      <td>(coward, 11)</td>\n",
       "      <td>(faggot, 2)</td>\n",
       "    </tr>\n",
       "    <tr>\n",
       "      <th>29</th>\n",
       "      <td>(niglet, 3)</td>\n",
       "      <td>(murder, 9)</td>\n",
       "      <td>(scum, 2)</td>\n",
       "    </tr>\n",
       "  </tbody>\n",
       "</table>\n",
       "</div>"
      ],
      "text/plain": [
       "          class 0         class 1        class 2\n",
       "0   (nigger, 315)  (bitch, 11144)      (die, 18)\n",
       "1    (bitch, 268)   (pussy, 2185)  (cripple, 14)\n",
       "2   (faggot, 266)     (ass, 1451)     (coon, 14)\n",
       "3      (ass, 139)    (fuck, 1297)    (bitch, 11)\n",
       "4     (fuck, 121)  (nigger, 1273)      (wop, 11)\n",
       "5     (pussy, 52)   (faggot, 384)   (tranny, 11)\n",
       "6      (kill, 32)     (dick, 320)     (kill, 10)\n",
       "7     (queer, 30)     (cunt, 226)     (queer, 9)\n",
       "8      (dyke, 29)    (retard, 91)      (gook, 8)\n",
       "9      (cunt, 25)      (kill, 89)     (spook, 8)\n",
       "10     (coon, 21)      (stfu, 88)     (pussy, 7)\n",
       "11   (retard, 18)       (die, 55)    (nigger, 7)\n",
       "12     (dick, 18)      (dyke, 46)     (balls, 6)\n",
       "13     (spic, 18)     (queer, 45)     (honky, 6)\n",
       "14     (stfu, 14)      (slut, 43)    (murder, 6)\n",
       "15      (die, 13)      (twat, 41)    (beaner, 4)\n",
       "16   (beaner, 11)     (whore, 32)    (honkey, 4)\n",
       "17   (wetback, 8)    (tranny, 31)      (twat, 3)\n",
       "18     (whore, 8)      (cock, 26)      (paki, 3)\n",
       "19     (chink, 8)     (balls, 24)      (hang, 3)\n",
       "20      (gook, 7)      (hang, 24)       (ass, 3)\n",
       "21      (homo, 6)   (asshole, 23)     (idiot, 3)\n",
       "22    (tranny, 6)      (coon, 20)       (jap, 3)\n",
       "23      (hang, 5)   (dumbass, 18)  (murdered, 3)\n",
       "24      (rape, 4)     (penis, 15)    (douche, 2)\n",
       "25     (balls, 4)      (rape, 14)      (rape, 2)\n",
       "26      (kike, 4)    (fucker, 13)      (dyke, 2)\n",
       "27    (coward, 3)     (dicks, 12)      (mong, 2)\n",
       "28    (honkey, 3)    (coward, 11)    (faggot, 2)\n",
       "29    (niglet, 3)     (murder, 9)      (scum, 2)"
      ]
     },
     "execution_count": 47,
     "metadata": {},
     "output_type": "execute_result"
    }
   ],
   "source": [
    "from collections import Counter\n",
    "bw = pd.DataFrame({\n",
    "                    'class 0': Counter(abusive_class0).most_common(30)\n",
    "                  ,'class 1': Counter(abusive_class1).most_common(30)\n",
    "                  ,'class 2': Counter(abusive_class2).most_common(30)}\n",
    "                 )\n",
    "bw"
   ]
  },
  {
   "cell_type": "markdown",
   "metadata": {},
   "source": [
    "We can also use `WordCloud` to visualize the most common words in each class as follows:"
   ]
  },
  {
   "cell_type": "code",
   "execution_count": 56,
   "metadata": {},
   "outputs": [
    {
     "data": {
      "image/png": "[encoded data removed]",
      "text/plain": [
       "<Figure size 432x288 with 1 Axes>"
      ]
     },
     "metadata": {},
     "output_type": "display_data"
    }
   ],
   "source": [
    "from wordcloud import WordCloud\n",
    "d = {}\n",
    "for k,v in bw['class 0']:\n",
    "    d[k] = int(v)\n",
    "wordcloud = WordCloud(width=900,height=500).generate_from_frequencies(d)\n",
    "\n",
    "plt.imshow(wordcloud, interpolation='bilinear')\n",
    "plt.axis(\"off\")\n",
    "plt.show()"
   ]
  },
  {
   "cell_type": "code",
   "execution_count": 59,
   "metadata": {},
   "outputs": [
    {
     "data": {
      "image/png": "[encoded data removed]",
      "text/plain": [
       "<Figure size 432x288 with 1 Axes>"
      ]
     },
     "metadata": {},
     "output_type": "display_data"
    }
   ],
   "source": [
    "from wordcloud import WordCloud\n",
    "d = {}\n",
    "for k,v in bw['class 1']:\n",
    "    d[k] = int(v)\n",
    "wordcloud = WordCloud(width=900,height=500).generate_from_frequencies(d)\n",
    "\n",
    "plt.imshow(wordcloud, interpolation='bilinear')\n",
    "plt.axis(\"off\")\n",
    "plt.show()"
   ]
  },
  {
   "cell_type": "code",
   "execution_count": 60,
   "metadata": {},
   "outputs": [
    {
     "data": {
      "image/png": "[encoded data removed]",
      "text/plain": [
       "<Figure size 432x288 with 1 Axes>"
      ]
     },
     "metadata": {},
     "output_type": "display_data"
    }
   ],
   "source": [
    "from wordcloud import WordCloud\n",
    "d = {}\n",
    "for k,v in bw['class 2']:\n",
    "    d[k] = int(v)\n",
    "wordcloud = WordCloud(width=900,height=500).generate_from_frequencies(d)\n",
    "\n",
    "plt.imshow(wordcloud, interpolation='bilinear')\n",
    "plt.axis(\"off\")\n",
    "plt.show()"
   ]
  }
 ],
 "metadata": {
  "kernelspec": {
   "display_name": "Python 3",
   "language": "python",
   "name": "python3"
  },
  "language_info": {
   "codemirror_mode": {
    "name": "ipython",
    "version": 3
   },
   "file_extension": ".py",
   "mimetype": "text/x-python",
   "name": "python",
   "nbconvert_exporter": "python",
   "pygments_lexer": "ipython3",
   "version": "3.7.4"
  }
 },
 "nbformat": 4,
 "nbformat_minor": 2
}
